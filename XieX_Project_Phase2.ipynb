{
 "cells": [
  {
   "cell_type": "markdown",
   "id": "ff7a46ef",
   "metadata": {},
   "source": [
    "## 1. Data Preprocessing "
   ]
  },
  {
   "cell_type": "markdown",
   "id": "1f9a8cff",
   "metadata": {},
   "source": [
    "Description: This section is to import libraries and data, build Abilitech data for future modeling. "
   ]
  },
  {
   "cell_type": "markdown",
   "id": "6ab3a284",
   "metadata": {},
   "source": [
    "## 1.1 Import libraries"
   ]
  },
  {
   "cell_type": "code",
   "execution_count": 862,
   "id": "898f4330",
   "metadata": {},
   "outputs": [],
   "source": [
    "# import libraries\n",
    "import numpy as np\n",
    "import pandas as pd\n",
    "import matplotlib.pyplot as plt\n",
    "import seaborn as sns\n",
    "%matplotlib inline "
   ]
  },
  {
   "cell_type": "markdown",
   "id": "6f96cb5d",
   "metadata": {},
   "source": [
    "## 1.2 Import data"
   ]
  },
  {
   "cell_type": "code",
   "execution_count": 863,
   "id": "8809083f",
   "metadata": {},
   "outputs": [],
   "source": [
    "df_Abilitech = pd.read_csv('data/AP05.csv', index_col = None, header=0) "
   ]
  },
  {
   "cell_type": "code",
   "execution_count": 864,
   "id": "214cf430",
   "metadata": {},
   "outputs": [],
   "source": [
    "df_TheGeneral = pd.read_csv('data/Phase2_TheGeneral.csv', index_col = None, header=0) "
   ]
  },
  {
   "cell_type": "code",
   "execution_count": 865,
   "id": "6bfd5b37",
   "metadata": {},
   "outputs": [],
   "source": [
    "df_ClaimMasterTrans = pd.read_csv('data/Phase2_ClaimMasterTrans.csv', index_col = None, header=0) "
   ]
  },
  {
   "cell_type": "code",
   "execution_count": 866,
   "id": "3ccac0a0",
   "metadata": {},
   "outputs": [],
   "source": [
    "df_MasterQuote = pd.read_csv('data/Phase2_MasterQuote.csv', index_col = None, header=0) "
   ]
  },
  {
   "cell_type": "code",
   "execution_count": 867,
   "id": "a5916621",
   "metadata": {},
   "outputs": [],
   "source": [
    "df_ap_demo = pd.read_csv('data/ap_demo.csv', index_col = None, header=0) "
   ]
  },
  {
   "cell_type": "code",
   "execution_count": 868,
   "id": "ba314348",
   "metadata": {},
   "outputs": [],
   "source": [
    "df_ClaimMaster = pd.read_csv('data/ClaimMaster.csv', index_col = None, header=0) "
   ]
  },
  {
   "cell_type": "code",
   "execution_count": 869,
   "id": "7cc29d87",
   "metadata": {},
   "outputs": [],
   "source": [
    "df_ClaimTransactions = pd.read_csv('data/ClaimTransactions.csv', index_col = None, header=0) "
   ]
  },
  {
   "cell_type": "markdown",
   "id": "ef5495d1",
   "metadata": {},
   "source": [
    "## 1.3 Build Abilitech data"
   ]
  },
  {
   "cell_type": "code",
   "execution_count": 870,
   "id": "f0ebf8e2",
   "metadata": {},
   "outputs": [],
   "source": [
    "# drop columns\n",
    "df_Abilitech=df_Abilitech.drop(['ACX_ZIPCODE','ACX_ZIP4'],axis=1)"
   ]
  },
  {
   "cell_type": "code",
   "execution_count": 871,
   "id": "4a2f43df",
   "metadata": {},
   "outputs": [],
   "source": [
    "df_Abilitech_columns=df_Abilitech.columns.values"
   ]
  },
  {
   "cell_type": "code",
   "execution_count": 872,
   "id": "67ab23d8",
   "metadata": {},
   "outputs": [],
   "source": [
    "df_Abilitech_columns=pd.DataFrame(df_Abilitech_columns)\n",
    "df_Abilitech_columns=df_Abilitech_columns.rename(columns={0:'ColumnName'})"
   ]
  },
  {
   "cell_type": "code",
   "execution_count": 873,
   "id": "8d3ec0e1",
   "metadata": {},
   "outputs": [],
   "source": [
    "#Constrain column names\n",
    "df_Abilitech_list4=df_Abilitech_columns[df_Abilitech_columns['ColumnName'].str.contains('Medical_Insurance')]\n",
    "df_Abilitech_list5=df_Abilitech_columns[df_Abilitech_columns['ColumnName'].str.contains('Obtain_Medical_Insurance')]"
   ]
  },
  {
   "cell_type": "code",
   "execution_count": 874,
   "id": "81769689",
   "metadata": {},
   "outputs": [],
   "source": [
    "# build new data frame and drop null values\n",
    "df_Abilitech_final1=pd.concat([df_Abilitech_list4],axis=0)\n",
    "df_Abilitech_final1 = df_Abilitech_final1.dropna(how='any')"
   ]
  },
  {
   "cell_type": "markdown",
   "id": "5b1e3d75",
   "metadata": {},
   "source": [
    "Summary: In this section, I import libraries such as numpy and pandas. I import dataset and build Abilitech data with dataframes. "
   ]
  },
  {
   "cell_type": "markdown",
   "id": "c4caf387",
   "metadata": {},
   "source": [
    "## 2. Clustering"
   ]
  },
  {
   "cell_type": "markdown",
   "id": "1ac22629",
   "metadata": {},
   "source": [
    "Description: In  this section, I used K-means models and clustering to analyze the Abilitech dataset. "
   ]
  },
  {
   "cell_type": "markdown",
   "id": "2242f095",
   "metadata": {},
   "source": [
    "## 2.1 Filter abilitech and cleanse data"
   ]
  },
  {
   "cell_type": "code",
   "execution_count": 875,
   "id": "b1a9d860",
   "metadata": {},
   "outputs": [],
   "source": [
    "# Filter the data\n",
    "df_Abilitech_id=df_Abilitech['AbilitecContactID']"
   ]
  },
  {
   "cell_type": "code",
   "execution_count": 876,
   "id": "052933b4",
   "metadata": {},
   "outputs": [],
   "source": [
    "var_AP1=df_Abilitech_final1['ColumnName']"
   ]
  },
  {
   "cell_type": "code",
   "execution_count": 877,
   "id": "dbcd36b0",
   "metadata": {},
   "outputs": [],
   "source": [
    "# drop null values\n",
    "df_Abilitech_final1 = df_Abilitech_final1.dropna(how='any')\n",
    "df_Abilitech_final1=df_Abilitech[var_AP1]"
   ]
  },
  {
   "cell_type": "code",
   "execution_count": 878,
   "id": "52d44bfa",
   "metadata": {},
   "outputs": [],
   "source": [
    "df_Abilitech_final1 = df_Abilitech_final1.dropna(how='any')"
   ]
  },
  {
   "cell_type": "code",
   "execution_count": 879,
   "id": "b131f5a6",
   "metadata": {},
   "outputs": [],
   "source": [
    "#Import standardscaler\n",
    "from sklearn.preprocessing import StandardScaler\n",
    "scaler=StandardScaler()"
   ]
  },
  {
   "cell_type": "code",
   "execution_count": 880,
   "id": "133eac36",
   "metadata": {},
   "outputs": [],
   "source": [
    "scaler.fit(df_Abilitech_final1)\n",
    "StandardScaler(copy=True, with_mean=True, with_std=True)\n",
    "df_Abilitech_final1_scaled=scaler.transform(df_Abilitech_final1)"
   ]
  },
  {
   "cell_type": "code",
   "execution_count": 881,
   "id": "b28800f4",
   "metadata": {},
   "outputs": [],
   "source": [
    "# Import KMeans function from scikit-learn(sklearn) library\n",
    "from sklearn.cluster import KMeans"
   ]
  },
  {
   "cell_type": "code",
   "execution_count": 882,
   "id": "9a93bfd9",
   "metadata": {},
   "outputs": [
    {
     "name": "stderr",
     "output_type": "stream",
     "text": [
      "C:\\Users\\HD\\anaconda3\\Lib\\site-packages\\sklearn\\cluster\\_kmeans.py:1412: FutureWarning: The default value of `n_init` will change from 10 to 'auto' in 1.4. Set the value of `n_init` explicitly to suppress the warning\n",
      "  super()._check_params_vs_input(X, default_n_init=10)\n"
     ]
    },
    {
     "name": "stdout",
     "output_type": "stream",
     "text": [
      "iteration 1 done\n"
     ]
    },
    {
     "name": "stderr",
     "output_type": "stream",
     "text": [
      "C:\\Users\\HD\\anaconda3\\Lib\\site-packages\\sklearn\\cluster\\_kmeans.py:1412: FutureWarning: The default value of `n_init` will change from 10 to 'auto' in 1.4. Set the value of `n_init` explicitly to suppress the warning\n",
      "  super()._check_params_vs_input(X, default_n_init=10)\n"
     ]
    },
    {
     "name": "stdout",
     "output_type": "stream",
     "text": [
      "iteration 2 done\n"
     ]
    },
    {
     "name": "stderr",
     "output_type": "stream",
     "text": [
      "C:\\Users\\HD\\anaconda3\\Lib\\site-packages\\sklearn\\cluster\\_kmeans.py:1412: FutureWarning: The default value of `n_init` will change from 10 to 'auto' in 1.4. Set the value of `n_init` explicitly to suppress the warning\n",
      "  super()._check_params_vs_input(X, default_n_init=10)\n"
     ]
    },
    {
     "name": "stdout",
     "output_type": "stream",
     "text": [
      "iteration 3 done\n"
     ]
    },
    {
     "name": "stderr",
     "output_type": "stream",
     "text": [
      "C:\\Users\\HD\\anaconda3\\Lib\\site-packages\\sklearn\\cluster\\_kmeans.py:1412: FutureWarning: The default value of `n_init` will change from 10 to 'auto' in 1.4. Set the value of `n_init` explicitly to suppress the warning\n",
      "  super()._check_params_vs_input(X, default_n_init=10)\n"
     ]
    },
    {
     "name": "stdout",
     "output_type": "stream",
     "text": [
      "iteration 4 done\n"
     ]
    },
    {
     "name": "stderr",
     "output_type": "stream",
     "text": [
      "C:\\Users\\HD\\anaconda3\\Lib\\site-packages\\sklearn\\cluster\\_kmeans.py:1412: FutureWarning: The default value of `n_init` will change from 10 to 'auto' in 1.4. Set the value of `n_init` explicitly to suppress the warning\n",
      "  super()._check_params_vs_input(X, default_n_init=10)\n"
     ]
    },
    {
     "name": "stdout",
     "output_type": "stream",
     "text": [
      "iteration 5 done\n"
     ]
    },
    {
     "name": "stderr",
     "output_type": "stream",
     "text": [
      "C:\\Users\\HD\\anaconda3\\Lib\\site-packages\\sklearn\\cluster\\_kmeans.py:1412: FutureWarning: The default value of `n_init` will change from 10 to 'auto' in 1.4. Set the value of `n_init` explicitly to suppress the warning\n",
      "  super()._check_params_vs_input(X, default_n_init=10)\n"
     ]
    },
    {
     "name": "stdout",
     "output_type": "stream",
     "text": [
      "iteration 6 done\n"
     ]
    },
    {
     "name": "stderr",
     "output_type": "stream",
     "text": [
      "C:\\Users\\HD\\anaconda3\\Lib\\site-packages\\sklearn\\cluster\\_kmeans.py:1412: FutureWarning: The default value of `n_init` will change from 10 to 'auto' in 1.4. Set the value of `n_init` explicitly to suppress the warning\n",
      "  super()._check_params_vs_input(X, default_n_init=10)\n"
     ]
    },
    {
     "name": "stdout",
     "output_type": "stream",
     "text": [
      "iteration 7 done\n"
     ]
    },
    {
     "name": "stderr",
     "output_type": "stream",
     "text": [
      "C:\\Users\\HD\\anaconda3\\Lib\\site-packages\\sklearn\\cluster\\_kmeans.py:1412: FutureWarning: The default value of `n_init` will change from 10 to 'auto' in 1.4. Set the value of `n_init` explicitly to suppress the warning\n",
      "  super()._check_params_vs_input(X, default_n_init=10)\n"
     ]
    },
    {
     "name": "stdout",
     "output_type": "stream",
     "text": [
      "iteration 8 done\n"
     ]
    },
    {
     "name": "stderr",
     "output_type": "stream",
     "text": [
      "C:\\Users\\HD\\anaconda3\\Lib\\site-packages\\sklearn\\cluster\\_kmeans.py:1412: FutureWarning: The default value of `n_init` will change from 10 to 'auto' in 1.4. Set the value of `n_init` explicitly to suppress the warning\n",
      "  super()._check_params_vs_input(X, default_n_init=10)\n"
     ]
    },
    {
     "name": "stdout",
     "output_type": "stream",
     "text": [
      "iteration 9 done\n"
     ]
    },
    {
     "name": "stderr",
     "output_type": "stream",
     "text": [
      "C:\\Users\\HD\\anaconda3\\Lib\\site-packages\\sklearn\\cluster\\_kmeans.py:1412: FutureWarning: The default value of `n_init` will change from 10 to 'auto' in 1.4. Set the value of `n_init` explicitly to suppress the warning\n",
      "  super()._check_params_vs_input(X, default_n_init=10)\n"
     ]
    },
    {
     "name": "stdout",
     "output_type": "stream",
     "text": [
      "iteration 10 done\n"
     ]
    },
    {
     "name": "stderr",
     "output_type": "stream",
     "text": [
      "C:\\Users\\HD\\anaconda3\\Lib\\site-packages\\sklearn\\cluster\\_kmeans.py:1412: FutureWarning: The default value of `n_init` will change from 10 to 'auto' in 1.4. Set the value of `n_init` explicitly to suppress the warning\n",
      "  super()._check_params_vs_input(X, default_n_init=10)\n"
     ]
    },
    {
     "name": "stdout",
     "output_type": "stream",
     "text": [
      "iteration 11 done\n"
     ]
    },
    {
     "name": "stderr",
     "output_type": "stream",
     "text": [
      "C:\\Users\\HD\\anaconda3\\Lib\\site-packages\\sklearn\\cluster\\_kmeans.py:1412: FutureWarning: The default value of `n_init` will change from 10 to 'auto' in 1.4. Set the value of `n_init` explicitly to suppress the warning\n",
      "  super()._check_params_vs_input(X, default_n_init=10)\n"
     ]
    },
    {
     "name": "stdout",
     "output_type": "stream",
     "text": [
      "iteration 12 done\n"
     ]
    },
    {
     "name": "stderr",
     "output_type": "stream",
     "text": [
      "C:\\Users\\HD\\anaconda3\\Lib\\site-packages\\sklearn\\cluster\\_kmeans.py:1412: FutureWarning: The default value of `n_init` will change from 10 to 'auto' in 1.4. Set the value of `n_init` explicitly to suppress the warning\n",
      "  super()._check_params_vs_input(X, default_n_init=10)\n"
     ]
    },
    {
     "name": "stdout",
     "output_type": "stream",
     "text": [
      "iteration 13 done\n"
     ]
    },
    {
     "name": "stderr",
     "output_type": "stream",
     "text": [
      "C:\\Users\\HD\\anaconda3\\Lib\\site-packages\\sklearn\\cluster\\_kmeans.py:1412: FutureWarning: The default value of `n_init` will change from 10 to 'auto' in 1.4. Set the value of `n_init` explicitly to suppress the warning\n",
      "  super()._check_params_vs_input(X, default_n_init=10)\n"
     ]
    },
    {
     "name": "stdout",
     "output_type": "stream",
     "text": [
      "iteration 14 done\n"
     ]
    },
    {
     "name": "stderr",
     "output_type": "stream",
     "text": [
      "C:\\Users\\HD\\anaconda3\\Lib\\site-packages\\sklearn\\cluster\\_kmeans.py:1412: FutureWarning: The default value of `n_init` will change from 10 to 'auto' in 1.4. Set the value of `n_init` explicitly to suppress the warning\n",
      "  super()._check_params_vs_input(X, default_n_init=10)\n"
     ]
    },
    {
     "name": "stdout",
     "output_type": "stream",
     "text": [
      "iteration 15 done\n"
     ]
    },
    {
     "name": "stderr",
     "output_type": "stream",
     "text": [
      "C:\\Users\\HD\\anaconda3\\Lib\\site-packages\\sklearn\\cluster\\_kmeans.py:1412: FutureWarning: The default value of `n_init` will change from 10 to 'auto' in 1.4. Set the value of `n_init` explicitly to suppress the warning\n",
      "  super()._check_params_vs_input(X, default_n_init=10)\n"
     ]
    },
    {
     "name": "stdout",
     "output_type": "stream",
     "text": [
      "iteration 16 done\n"
     ]
    },
    {
     "name": "stderr",
     "output_type": "stream",
     "text": [
      "C:\\Users\\HD\\anaconda3\\Lib\\site-packages\\sklearn\\cluster\\_kmeans.py:1412: FutureWarning: The default value of `n_init` will change from 10 to 'auto' in 1.4. Set the value of `n_init` explicitly to suppress the warning\n",
      "  super()._check_params_vs_input(X, default_n_init=10)\n"
     ]
    },
    {
     "name": "stdout",
     "output_type": "stream",
     "text": [
      "iteration 17 done\n"
     ]
    },
    {
     "name": "stderr",
     "output_type": "stream",
     "text": [
      "C:\\Users\\HD\\anaconda3\\Lib\\site-packages\\sklearn\\cluster\\_kmeans.py:1412: FutureWarning: The default value of `n_init` will change from 10 to 'auto' in 1.4. Set the value of `n_init` explicitly to suppress the warning\n",
      "  super()._check_params_vs_input(X, default_n_init=10)\n"
     ]
    },
    {
     "name": "stdout",
     "output_type": "stream",
     "text": [
      "iteration 18 done\n"
     ]
    },
    {
     "name": "stderr",
     "output_type": "stream",
     "text": [
      "C:\\Users\\HD\\anaconda3\\Lib\\site-packages\\sklearn\\cluster\\_kmeans.py:1412: FutureWarning: The default value of `n_init` will change from 10 to 'auto' in 1.4. Set the value of `n_init` explicitly to suppress the warning\n",
      "  super()._check_params_vs_input(X, default_n_init=10)\n"
     ]
    },
    {
     "name": "stdout",
     "output_type": "stream",
     "text": [
      "iteration 19 done\n"
     ]
    },
    {
     "name": "stderr",
     "output_type": "stream",
     "text": [
      "C:\\Users\\HD\\anaconda3\\Lib\\site-packages\\sklearn\\cluster\\_kmeans.py:1412: FutureWarning: The default value of `n_init` will change from 10 to 'auto' in 1.4. Set the value of `n_init` explicitly to suppress the warning\n",
      "  super()._check_params_vs_input(X, default_n_init=10)\n"
     ]
    },
    {
     "name": "stdout",
     "output_type": "stream",
     "text": [
      "iteration 20 done\n"
     ]
    },
    {
     "data": {
      "image/png": "[encoded data removed]",
      "text/plain": [
       "<Figure size 640x480 with 1 Axes>"
      ]
     },
     "metadata": {},
     "output_type": "display_data"
    }
   ],
   "source": [
    "# Create an inertias model using “ks = range(1, 21)\n",
    "\n",
    "ks = range(1,21)\n",
    "inertias = []\n",
    "for k in ks:\n",
    "     # Create a KMeans instance with k clusters: model\n",
    "    model1 = KMeans(n_clusters = k)\n",
    "    # Fit model to samples\n",
    "    model1.fit(df_Abilitech_final1_scaled)\n",
    "    # Append the inertia to the list of inertias\n",
    "    inertias.append(model1.inertia_)\n",
    "\n",
    "    print(\"iteration {} done\".format(k))\n",
    "\n",
    "plt.plot(ks, inertias, '-o')\n",
    "\n",
    "plt.xlabel('number of clusters, k')\n",
    "\n",
    "plt.ylabel('inertia')\n",
    "\n",
    "plt.xticks(ks)\n",
    "\n",
    "plt.show()"
   ]
  },
  {
   "cell_type": "code",
   "execution_count": 883,
   "id": "efab0f23",
   "metadata": {},
   "outputs": [
    {
     "name": "stderr",
     "output_type": "stream",
     "text": [
      "C:\\Users\\HD\\anaconda3\\Lib\\site-packages\\sklearn\\cluster\\_kmeans.py:1412: FutureWarning: The default value of `n_init` will change from 10 to 'auto' in 1.4. Set the value of `n_init` explicitly to suppress the warning\n",
      "  super()._check_params_vs_input(X, default_n_init=10)\n"
     ]
    },
    {
     "data": {
      "text/html": [
       "<style>#sk-container-id-18 {color: black;}#sk-container-id-18 pre{padding: 0;}#sk-container-id-18 div.sk-toggleable {background-color: white;}#sk-container-id-18 label.sk-toggleable__label {cursor: pointer;display: block;width: 100%;margin-bottom: 0;padding: 0.3em;box-sizing: border-box;text-align: center;}#sk-container-id-18 label.sk-toggleable__label-arrow:before {content: \"▸\";float: left;margin-right: 0.25em;color: #696969;}#sk-container-id-18 label.sk-toggleable__label-arrow:hover:before {color: black;}#sk-container-id-18 div.sk-estimator:hover label.sk-toggleable__label-arrow:before {color: black;}#sk-container-id-18 div.sk-toggleable__content {max-height: 0;max-width: 0;overflow: hidden;text-align: left;background-color: #f0f8ff;}#sk-container-id-18 div.sk-toggleable__content pre {margin: 0.2em;color: black;border-radius: 0.25em;background-color: #f0f8ff;}#sk-container-id-18 input.sk-toggleable__control:checked~div.sk-toggleable__content {max-height: 200px;max-width: 100%;overflow: auto;}#sk-container-id-18 input.sk-toggleable__control:checked~label.sk-toggleable__label-arrow:before {content: \"▾\";}#sk-container-id-18 div.sk-estimator input.sk-toggleable__control:checked~label.sk-toggleable__label {background-color: #d4ebff;}#sk-container-id-18 div.sk-label input.sk-toggleable__control:checked~label.sk-toggleable__label {background-color: #d4ebff;}#sk-container-id-18 input.sk-hidden--visually {border: 0;clip: rect(1px 1px 1px 1px);clip: rect(1px, 1px, 1px, 1px);height: 1px;margin: -1px;overflow: hidden;padding: 0;position: absolute;width: 1px;}#sk-container-id-18 div.sk-estimator {font-family: monospace;background-color: #f0f8ff;border: 1px dotted black;border-radius: 0.25em;box-sizing: border-box;margin-bottom: 0.5em;}#sk-container-id-18 div.sk-estimator:hover {background-color: #d4ebff;}#sk-container-id-18 div.sk-parallel-item::after {content: \"\";width: 100%;border-bottom: 1px solid gray;flex-grow: 1;}#sk-container-id-18 div.sk-label:hover label.sk-toggleable__label {background-color: #d4ebff;}#sk-container-id-18 div.sk-serial::before {content: \"\";position: absolute;border-left: 1px solid gray;box-sizing: border-box;top: 0;bottom: 0;left: 50%;z-index: 0;}#sk-container-id-18 div.sk-serial {display: flex;flex-direction: column;align-items: center;background-color: white;padding-right: 0.2em;padding-left: 0.2em;position: relative;}#sk-container-id-18 div.sk-item {position: relative;z-index: 1;}#sk-container-id-18 div.sk-parallel {display: flex;align-items: stretch;justify-content: center;background-color: white;position: relative;}#sk-container-id-18 div.sk-item::before, #sk-container-id-18 div.sk-parallel-item::before {content: \"\";position: absolute;border-left: 1px solid gray;box-sizing: border-box;top: 0;bottom: 0;left: 50%;z-index: -1;}#sk-container-id-18 div.sk-parallel-item {display: flex;flex-direction: column;z-index: 1;position: relative;background-color: white;}#sk-container-id-18 div.sk-parallel-item:first-child::after {align-self: flex-end;width: 50%;}#sk-container-id-18 div.sk-parallel-item:last-child::after {align-self: flex-start;width: 50%;}#sk-container-id-18 div.sk-parallel-item:only-child::after {width: 0;}#sk-container-id-18 div.sk-dashed-wrapped {border: 1px dashed gray;margin: 0 0.4em 0.5em 0.4em;box-sizing: border-box;padding-bottom: 0.4em;background-color: white;}#sk-container-id-18 div.sk-label label {font-family: monospace;font-weight: bold;display: inline-block;line-height: 1.2em;}#sk-container-id-18 div.sk-label-container {text-align: center;}#sk-container-id-18 div.sk-container {/* jupyter's `normalize.less` sets `[hidden] { display: none; }` but bootstrap.min.css set `[hidden] { display: none !important; }` so we also need the `!important` here to be able to override the default hidden behavior on the sphinx rendered scikit-learn.org. See: https://github.com/scikit-learn/scikit-learn/issues/21755 */display: inline-block !important;position: relative;}#sk-container-id-18 div.sk-text-repr-fallback {display: none;}</style><div id=\"sk-container-id-18\" class=\"sk-top-container\"><div class=\"sk-text-repr-fallback\"><pre>KMeans()</pre><b>In a Jupyter environment, please rerun this cell to show the HTML representation or trust the notebook. <br />On GitHub, the HTML representation is unable to render, please try loading this page with nbviewer.org.</b></div><div class=\"sk-container\" hidden><div class=\"sk-item\"><div class=\"sk-estimator sk-toggleable\"><input class=\"sk-toggleable__control sk-hidden--visually\" id=\"sk-estimator-id-18\" type=\"checkbox\" checked><label for=\"sk-estimator-id-18\" class=\"sk-toggleable__label sk-toggleable__label-arrow\">KMeans</label><div class=\"sk-toggleable__content\"><pre>KMeans()</pre></div></div></div></div></div>"
      ],
      "text/plain": [
       "KMeans()"
      ]
     },
     "execution_count": 883,
     "metadata": {},
     "output_type": "execute_result"
    }
   ],
   "source": [
    "# Create a KMeans cluster based on the inertias model chart\n",
    "model=KMeans(n_clusters=8)\n",
    "model.fit(df_Abilitech_final1_scaled)"
   ]
  },
  {
   "cell_type": "code",
   "execution_count": 884,
   "id": "d20373bd",
   "metadata": {},
   "outputs": [],
   "source": [
    "# Create a dataframe named labels8 and renamed it \n",
    "labels8=model.predict(df_Abilitech_final1_scaled)\n",
    "labels8=pd.DataFrame(labels8)\n",
    "labels8=labels8.rename(columns={0:'labels8'})\n",
    "df_Abilitech_final1_scaled=pd.DataFrame(df_Abilitech_final1_scaled)"
   ]
  },
  {
   "cell_type": "code",
   "execution_count": 885,
   "id": "930398d6",
   "metadata": {},
   "outputs": [
    {
     "data": {
      "text/html": [
       "<div>\n",
       "<style scoped>\n",
       "    .dataframe tbody tr th:only-of-type {\n",
       "        vertical-align: middle;\n",
       "    }\n",
       "\n",
       "    .dataframe tbody tr th {\n",
       "        vertical-align: top;\n",
       "    }\n",
       "\n",
       "    .dataframe thead th {\n",
       "        text-align: right;\n",
       "    }\n",
       "</style>\n",
       "<table border=\"1\" class=\"dataframe\">\n",
       "  <thead>\n",
       "    <tr style=\"text-align: right;\">\n",
       "      <th></th>\n",
       "      <th>AP001213_Medical_Insurance_You_and_other_household_members_rank_base_100_IFLGC543</th>\n",
       "      <th>AP001214_You_ALone_Have_Medical_Insurance_rank_base_20_IFLGC544</th>\n",
       "      <th>AP001215_Aetna_Medical_Insurance_rank_base_20_IFLGC545</th>\n",
       "      <th>AP001216_Aflac_Medical_Insurance_rank_base_20_IFLGC546</th>\n",
       "      <th>AP001217_Bankers_Life_and_Casualty_Medical_Insurance_rank_base_100_IFLGC547</th>\n",
       "      <th>AP001218_Cigna_Medical_Insurance_rank_base_10_iflgc548</th>\n",
       "      <th>AP001219_Medical_Insurance_Companies_Delta_Dental_rank_base_5_IFLGC549</th>\n",
       "      <th>AP001220_Group_Health_Cooperative_Medical_Insurance_rank_base_20_IFLGC550</th>\n",
       "      <th>AP001221_Health_Net_Medical_Insurance_Fin_rank_base_20_IFLGC551</th>\n",
       "      <th>AP001222_Humana_Medical_Insurance_rank_base_10_iflgc552</th>\n",
       "      <th>...</th>\n",
       "      <th>AP001230_Obtain_Medical_Insurance_from_a_Union_rank_base_20_IFLGC560</th>\n",
       "      <th>Obtain medical insurance from fraternal/other membership</th>\n",
       "      <th>AP001232_Obtain_Medical_Insurance_from_Medicaid_rank_base_20_IFLGC562</th>\n",
       "      <th>AP001233_Obtain_Medical_Insurance_from_Medicare_rank_base_20_iflgc563</th>\n",
       "      <th>AP001234_Obtain_Medical_Insurance_from_Other_Government_Source_rank_base_10_iflgc564</th>\n",
       "      <th>AP001235_Obtain_Medical_Insurance_from_an_Agent_Representing_One_Company_rank_base_5_iflgc565</th>\n",
       "      <th>AP001236_Obtain_Medical_Insurance_from_Agent_or_Broker_Representing_Many_Companies_rank_base_100_iflgc566</th>\n",
       "      <th>AP001237_Obtain_Medical_Insurance_Through_Direct_Mail_or_Phone_Contact_rank_base_20_IFLGC567</th>\n",
       "      <th>AP001238_Obtain_Medical_Insurance_Through_the_Internet_rank_base_20_IFLGC568</th>\n",
       "      <th>labels8</th>\n",
       "    </tr>\n",
       "  </thead>\n",
       "  <tbody>\n",
       "    <tr>\n",
       "      <th>1</th>\n",
       "      <td>52</td>\n",
       "      <td>14.0</td>\n",
       "      <td>18.0</td>\n",
       "      <td>8.0</td>\n",
       "      <td>47.0</td>\n",
       "      <td>6.0</td>\n",
       "      <td>2</td>\n",
       "      <td>6.0</td>\n",
       "      <td>13.0</td>\n",
       "      <td>5.0</td>\n",
       "      <td>...</td>\n",
       "      <td>17.0</td>\n",
       "      <td>11.0</td>\n",
       "      <td>9.0</td>\n",
       "      <td>14.0</td>\n",
       "      <td>5.0</td>\n",
       "      <td>3.0</td>\n",
       "      <td>70.0</td>\n",
       "      <td>8.0</td>\n",
       "      <td>11.0</td>\n",
       "      <td>7</td>\n",
       "    </tr>\n",
       "    <tr>\n",
       "      <th>3</th>\n",
       "      <td>56</td>\n",
       "      <td>11.0</td>\n",
       "      <td>9.0</td>\n",
       "      <td>8.0</td>\n",
       "      <td>95.0</td>\n",
       "      <td>2.0</td>\n",
       "      <td>4</td>\n",
       "      <td>9.0</td>\n",
       "      <td>17.0</td>\n",
       "      <td>8.0</td>\n",
       "      <td>...</td>\n",
       "      <td>15.0</td>\n",
       "      <td>12.0</td>\n",
       "      <td>13.0</td>\n",
       "      <td>15.0</td>\n",
       "      <td>8.0</td>\n",
       "      <td>5.0</td>\n",
       "      <td>59.0</td>\n",
       "      <td>6.0</td>\n",
       "      <td>5.0</td>\n",
       "      <td>4</td>\n",
       "    </tr>\n",
       "    <tr>\n",
       "      <th>6</th>\n",
       "      <td>59</td>\n",
       "      <td>14.0</td>\n",
       "      <td>19.0</td>\n",
       "      <td>11.0</td>\n",
       "      <td>57.0</td>\n",
       "      <td>10.0</td>\n",
       "      <td>4</td>\n",
       "      <td>10.0</td>\n",
       "      <td>7.0</td>\n",
       "      <td>4.0</td>\n",
       "      <td>...</td>\n",
       "      <td>3.0</td>\n",
       "      <td>2.0</td>\n",
       "      <td>4.0</td>\n",
       "      <td>16.0</td>\n",
       "      <td>5.0</td>\n",
       "      <td>3.0</td>\n",
       "      <td>64.0</td>\n",
       "      <td>2.0</td>\n",
       "      <td>12.0</td>\n",
       "      <td>4</td>\n",
       "    </tr>\n",
       "    <tr>\n",
       "      <th>9</th>\n",
       "      <td>86</td>\n",
       "      <td>7.0</td>\n",
       "      <td>11.0</td>\n",
       "      <td>9.0</td>\n",
       "      <td>99.0</td>\n",
       "      <td>10.0</td>\n",
       "      <td>5</td>\n",
       "      <td>19.0</td>\n",
       "      <td>13.0</td>\n",
       "      <td>3.0</td>\n",
       "      <td>...</td>\n",
       "      <td>17.0</td>\n",
       "      <td>18.0</td>\n",
       "      <td>6.0</td>\n",
       "      <td>12.0</td>\n",
       "      <td>5.0</td>\n",
       "      <td>5.0</td>\n",
       "      <td>93.0</td>\n",
       "      <td>20.0</td>\n",
       "      <td>4.0</td>\n",
       "      <td>7</td>\n",
       "    </tr>\n",
       "    <tr>\n",
       "      <th>10</th>\n",
       "      <td>90</td>\n",
       "      <td>8.0</td>\n",
       "      <td>17.0</td>\n",
       "      <td>9.0</td>\n",
       "      <td>83.0</td>\n",
       "      <td>9.0</td>\n",
       "      <td>5</td>\n",
       "      <td>13.0</td>\n",
       "      <td>14.0</td>\n",
       "      <td>5.0</td>\n",
       "      <td>...</td>\n",
       "      <td>20.0</td>\n",
       "      <td>13.0</td>\n",
       "      <td>4.0</td>\n",
       "      <td>11.0</td>\n",
       "      <td>4.0</td>\n",
       "      <td>5.0</td>\n",
       "      <td>95.0</td>\n",
       "      <td>16.0</td>\n",
       "      <td>14.0</td>\n",
       "      <td>3</td>\n",
       "    </tr>\n",
       "    <tr>\n",
       "      <th>...</th>\n",
       "      <td>...</td>\n",
       "      <td>...</td>\n",
       "      <td>...</td>\n",
       "      <td>...</td>\n",
       "      <td>...</td>\n",
       "      <td>...</td>\n",
       "      <td>...</td>\n",
       "      <td>...</td>\n",
       "      <td>...</td>\n",
       "      <td>...</td>\n",
       "      <td>...</td>\n",
       "      <td>...</td>\n",
       "      <td>...</td>\n",
       "      <td>...</td>\n",
       "      <td>...</td>\n",
       "      <td>...</td>\n",
       "      <td>...</td>\n",
       "      <td>...</td>\n",
       "      <td>...</td>\n",
       "      <td>...</td>\n",
       "      <td>...</td>\n",
       "    </tr>\n",
       "    <tr>\n",
       "      <th>84076</th>\n",
       "      <td>11</td>\n",
       "      <td>17.0</td>\n",
       "      <td>11.0</td>\n",
       "      <td>1.0</td>\n",
       "      <td>69.0</td>\n",
       "      <td>5.0</td>\n",
       "      <td>1</td>\n",
       "      <td>6.0</td>\n",
       "      <td>18.0</td>\n",
       "      <td>2.0</td>\n",
       "      <td>...</td>\n",
       "      <td>8.0</td>\n",
       "      <td>12.0</td>\n",
       "      <td>9.0</td>\n",
       "      <td>20.0</td>\n",
       "      <td>5.0</td>\n",
       "      <td>2.0</td>\n",
       "      <td>42.0</td>\n",
       "      <td>14.0</td>\n",
       "      <td>20.0</td>\n",
       "      <td>4</td>\n",
       "    </tr>\n",
       "    <tr>\n",
       "      <th>84077</th>\n",
       "      <td>50</td>\n",
       "      <td>16.0</td>\n",
       "      <td>10.0</td>\n",
       "      <td>17.0</td>\n",
       "      <td>75.0</td>\n",
       "      <td>6.0</td>\n",
       "      <td>4</td>\n",
       "      <td>14.0</td>\n",
       "      <td>4.0</td>\n",
       "      <td>10.0</td>\n",
       "      <td>...</td>\n",
       "      <td>15.0</td>\n",
       "      <td>7.0</td>\n",
       "      <td>12.0</td>\n",
       "      <td>16.0</td>\n",
       "      <td>8.0</td>\n",
       "      <td>5.0</td>\n",
       "      <td>68.0</td>\n",
       "      <td>14.0</td>\n",
       "      <td>9.0</td>\n",
       "      <td>3</td>\n",
       "    </tr>\n",
       "    <tr>\n",
       "      <th>84079</th>\n",
       "      <td>30</td>\n",
       "      <td>19.0</td>\n",
       "      <td>1.0</td>\n",
       "      <td>13.0</td>\n",
       "      <td>98.0</td>\n",
       "      <td>1.0</td>\n",
       "      <td>4</td>\n",
       "      <td>13.0</td>\n",
       "      <td>13.0</td>\n",
       "      <td>9.0</td>\n",
       "      <td>...</td>\n",
       "      <td>9.0</td>\n",
       "      <td>17.0</td>\n",
       "      <td>17.0</td>\n",
       "      <td>14.0</td>\n",
       "      <td>9.0</td>\n",
       "      <td>5.0</td>\n",
       "      <td>65.0</td>\n",
       "      <td>19.0</td>\n",
       "      <td>9.0</td>\n",
       "      <td>1</td>\n",
       "    </tr>\n",
       "    <tr>\n",
       "      <th>84080</th>\n",
       "      <td>61</td>\n",
       "      <td>13.0</td>\n",
       "      <td>9.0</td>\n",
       "      <td>12.0</td>\n",
       "      <td>65.0</td>\n",
       "      <td>8.0</td>\n",
       "      <td>4</td>\n",
       "      <td>11.0</td>\n",
       "      <td>17.0</td>\n",
       "      <td>4.0</td>\n",
       "      <td>...</td>\n",
       "      <td>15.0</td>\n",
       "      <td>4.0</td>\n",
       "      <td>6.0</td>\n",
       "      <td>7.0</td>\n",
       "      <td>3.0</td>\n",
       "      <td>3.0</td>\n",
       "      <td>83.0</td>\n",
       "      <td>17.0</td>\n",
       "      <td>8.0</td>\n",
       "      <td>1</td>\n",
       "    </tr>\n",
       "    <tr>\n",
       "      <th>84081</th>\n",
       "      <td>18</td>\n",
       "      <td>20.0</td>\n",
       "      <td>13.0</td>\n",
       "      <td>2.0</td>\n",
       "      <td>88.0</td>\n",
       "      <td>4.0</td>\n",
       "      <td>2</td>\n",
       "      <td>13.0</td>\n",
       "      <td>14.0</td>\n",
       "      <td>4.0</td>\n",
       "      <td>...</td>\n",
       "      <td>14.0</td>\n",
       "      <td>16.0</td>\n",
       "      <td>10.0</td>\n",
       "      <td>20.0</td>\n",
       "      <td>7.0</td>\n",
       "      <td>2.0</td>\n",
       "      <td>40.0</td>\n",
       "      <td>15.0</td>\n",
       "      <td>10.0</td>\n",
       "      <td>4</td>\n",
       "    </tr>\n",
       "  </tbody>\n",
       "</table>\n",
       "<p>72329 rows × 27 columns</p>\n",
       "</div>"
      ],
      "text/plain": [
       "       AP001213_Medical_Insurance_You_and_other_household_members_rank_base_100_IFLGC543  \\\n",
       "1                                                     52                                   \n",
       "3                                                     56                                   \n",
       "6                                                     59                                   \n",
       "9                                                     86                                   \n",
       "10                                                    90                                   \n",
       "...                                                  ...                                   \n",
       "84076                                                 11                                   \n",
       "84077                                                 50                                   \n",
       "84079                                                 30                                   \n",
       "84080                                                 61                                   \n",
       "84081                                                 18                                   \n",
       "\n",
       "       AP001214_You_ALone_Have_Medical_Insurance_rank_base_20_IFLGC544  \\\n",
       "1                                                   14.0                 \n",
       "3                                                   11.0                 \n",
       "6                                                   14.0                 \n",
       "9                                                    7.0                 \n",
       "10                                                   8.0                 \n",
       "...                                                  ...                 \n",
       "84076                                               17.0                 \n",
       "84077                                               16.0                 \n",
       "84079                                               19.0                 \n",
       "84080                                               13.0                 \n",
       "84081                                               20.0                 \n",
       "\n",
       "       AP001215_Aetna_Medical_Insurance_rank_base_20_IFLGC545  \\\n",
       "1                                                   18.0        \n",
       "3                                                    9.0        \n",
       "6                                                   19.0        \n",
       "9                                                   11.0        \n",
       "10                                                  17.0        \n",
       "...                                                  ...        \n",
       "84076                                               11.0        \n",
       "84077                                               10.0        \n",
       "84079                                                1.0        \n",
       "84080                                                9.0        \n",
       "84081                                               13.0        \n",
       "\n",
       "       AP001216_Aflac_Medical_Insurance_rank_base_20_IFLGC546  \\\n",
       "1                                                    8.0        \n",
       "3                                                    8.0        \n",
       "6                                                   11.0        \n",
       "9                                                    9.0        \n",
       "10                                                   9.0        \n",
       "...                                                  ...        \n",
       "84076                                                1.0        \n",
       "84077                                               17.0        \n",
       "84079                                               13.0        \n",
       "84080                                               12.0        \n",
       "84081                                                2.0        \n",
       "\n",
       "       AP001217_Bankers_Life_and_Casualty_Medical_Insurance_rank_base_100_IFLGC547  \\\n",
       "1                                                   47.0                             \n",
       "3                                                   95.0                             \n",
       "6                                                   57.0                             \n",
       "9                                                   99.0                             \n",
       "10                                                  83.0                             \n",
       "...                                                  ...                             \n",
       "84076                                               69.0                             \n",
       "84077                                               75.0                             \n",
       "84079                                               98.0                             \n",
       "84080                                               65.0                             \n",
       "84081                                               88.0                             \n",
       "\n",
       "       AP001218_Cigna_Medical_Insurance_rank_base_10_iflgc548  \\\n",
       "1                                                    6.0        \n",
       "3                                                    2.0        \n",
       "6                                                   10.0        \n",
       "9                                                   10.0        \n",
       "10                                                   9.0        \n",
       "...                                                  ...        \n",
       "84076                                                5.0        \n",
       "84077                                                6.0        \n",
       "84079                                                1.0        \n",
       "84080                                                8.0        \n",
       "84081                                                4.0        \n",
       "\n",
       "       AP001219_Medical_Insurance_Companies_Delta_Dental_rank_base_5_IFLGC549  \\\n",
       "1                                                      2                        \n",
       "3                                                      4                        \n",
       "6                                                      4                        \n",
       "9                                                      5                        \n",
       "10                                                     5                        \n",
       "...                                                  ...                        \n",
       "84076                                                  1                        \n",
       "84077                                                  4                        \n",
       "84079                                                  4                        \n",
       "84080                                                  4                        \n",
       "84081                                                  2                        \n",
       "\n",
       "       AP001220_Group_Health_Cooperative_Medical_Insurance_rank_base_20_IFLGC550  \\\n",
       "1                                                    6.0                           \n",
       "3                                                    9.0                           \n",
       "6                                                   10.0                           \n",
       "9                                                   19.0                           \n",
       "10                                                  13.0                           \n",
       "...                                                  ...                           \n",
       "84076                                                6.0                           \n",
       "84077                                               14.0                           \n",
       "84079                                               13.0                           \n",
       "84080                                               11.0                           \n",
       "84081                                               13.0                           \n",
       "\n",
       "       AP001221_Health_Net_Medical_Insurance_Fin_rank_base_20_IFLGC551  \\\n",
       "1                                                   13.0                 \n",
       "3                                                   17.0                 \n",
       "6                                                    7.0                 \n",
       "9                                                   13.0                 \n",
       "10                                                  14.0                 \n",
       "...                                                  ...                 \n",
       "84076                                               18.0                 \n",
       "84077                                                4.0                 \n",
       "84079                                               13.0                 \n",
       "84080                                               17.0                 \n",
       "84081                                               14.0                 \n",
       "\n",
       "       AP001222_Humana_Medical_Insurance_rank_base_10_iflgc552  ...  \\\n",
       "1                                                    5.0        ...   \n",
       "3                                                    8.0        ...   \n",
       "6                                                    4.0        ...   \n",
       "9                                                    3.0        ...   \n",
       "10                                                   5.0        ...   \n",
       "...                                                  ...        ...   \n",
       "84076                                                2.0        ...   \n",
       "84077                                               10.0        ...   \n",
       "84079                                                9.0        ...   \n",
       "84080                                                4.0        ...   \n",
       "84081                                                4.0        ...   \n",
       "\n",
       "       AP001230_Obtain_Medical_Insurance_from_a_Union_rank_base_20_IFLGC560  \\\n",
       "1                                                   17.0                      \n",
       "3                                                   15.0                      \n",
       "6                                                    3.0                      \n",
       "9                                                   17.0                      \n",
       "10                                                  20.0                      \n",
       "...                                                  ...                      \n",
       "84076                                                8.0                      \n",
       "84077                                               15.0                      \n",
       "84079                                                9.0                      \n",
       "84080                                               15.0                      \n",
       "84081                                               14.0                      \n",
       "\n",
       "       Obtain medical insurance from fraternal/other membership  \\\n",
       "1                                                   11.0          \n",
       "3                                                   12.0          \n",
       "6                                                    2.0          \n",
       "9                                                   18.0          \n",
       "10                                                  13.0          \n",
       "...                                                  ...          \n",
       "84076                                               12.0          \n",
       "84077                                                7.0          \n",
       "84079                                               17.0          \n",
       "84080                                                4.0          \n",
       "84081                                               16.0          \n",
       "\n",
       "       AP001232_Obtain_Medical_Insurance_from_Medicaid_rank_base_20_IFLGC562  \\\n",
       "1                                                    9.0                       \n",
       "3                                                   13.0                       \n",
       "6                                                    4.0                       \n",
       "9                                                    6.0                       \n",
       "10                                                   4.0                       \n",
       "...                                                  ...                       \n",
       "84076                                                9.0                       \n",
       "84077                                               12.0                       \n",
       "84079                                               17.0                       \n",
       "84080                                                6.0                       \n",
       "84081                                               10.0                       \n",
       "\n",
       "       AP001233_Obtain_Medical_Insurance_from_Medicare_rank_base_20_iflgc563  \\\n",
       "1                                                   14.0                       \n",
       "3                                                   15.0                       \n",
       "6                                                   16.0                       \n",
       "9                                                   12.0                       \n",
       "10                                                  11.0                       \n",
       "...                                                  ...                       \n",
       "84076                                               20.0                       \n",
       "84077                                               16.0                       \n",
       "84079                                               14.0                       \n",
       "84080                                                7.0                       \n",
       "84081                                               20.0                       \n",
       "\n",
       "       AP001234_Obtain_Medical_Insurance_from_Other_Government_Source_rank_base_10_iflgc564  \\\n",
       "1                                                    5.0                                      \n",
       "3                                                    8.0                                      \n",
       "6                                                    5.0                                      \n",
       "9                                                    5.0                                      \n",
       "10                                                   4.0                                      \n",
       "...                                                  ...                                      \n",
       "84076                                                5.0                                      \n",
       "84077                                                8.0                                      \n",
       "84079                                                9.0                                      \n",
       "84080                                                3.0                                      \n",
       "84081                                                7.0                                      \n",
       "\n",
       "       AP001235_Obtain_Medical_Insurance_from_an_Agent_Representing_One_Company_rank_base_5_iflgc565  \\\n",
       "1                                                    3.0                                               \n",
       "3                                                    5.0                                               \n",
       "6                                                    3.0                                               \n",
       "9                                                    5.0                                               \n",
       "10                                                   5.0                                               \n",
       "...                                                  ...                                               \n",
       "84076                                                2.0                                               \n",
       "84077                                                5.0                                               \n",
       "84079                                                5.0                                               \n",
       "84080                                                3.0                                               \n",
       "84081                                                2.0                                               \n",
       "\n",
       "       AP001236_Obtain_Medical_Insurance_from_Agent_or_Broker_Representing_Many_Companies_rank_base_100_iflgc566  \\\n",
       "1                                                   70.0                                                           \n",
       "3                                                   59.0                                                           \n",
       "6                                                   64.0                                                           \n",
       "9                                                   93.0                                                           \n",
       "10                                                  95.0                                                           \n",
       "...                                                  ...                                                           \n",
       "84076                                               42.0                                                           \n",
       "84077                                               68.0                                                           \n",
       "84079                                               65.0                                                           \n",
       "84080                                               83.0                                                           \n",
       "84081                                               40.0                                                           \n",
       "\n",
       "       AP001237_Obtain_Medical_Insurance_Through_Direct_Mail_or_Phone_Contact_rank_base_20_IFLGC567  \\\n",
       "1                                                    8.0                                              \n",
       "3                                                    6.0                                              \n",
       "6                                                    2.0                                              \n",
       "9                                                   20.0                                              \n",
       "10                                                  16.0                                              \n",
       "...                                                  ...                                              \n",
       "84076                                               14.0                                              \n",
       "84077                                               14.0                                              \n",
       "84079                                               19.0                                              \n",
       "84080                                               17.0                                              \n",
       "84081                                               15.0                                              \n",
       "\n",
       "       AP001238_Obtain_Medical_Insurance_Through_the_Internet_rank_base_20_IFLGC568  \\\n",
       "1                                                   11.0                              \n",
       "3                                                    5.0                              \n",
       "6                                                   12.0                              \n",
       "9                                                    4.0                              \n",
       "10                                                  14.0                              \n",
       "...                                                  ...                              \n",
       "84076                                               20.0                              \n",
       "84077                                                9.0                              \n",
       "84079                                                9.0                              \n",
       "84080                                                8.0                              \n",
       "84081                                               10.0                              \n",
       "\n",
       "       labels8  \n",
       "1            7  \n",
       "3            4  \n",
       "6            4  \n",
       "9            7  \n",
       "10           3  \n",
       "...        ...  \n",
       "84076        4  \n",
       "84077        3  \n",
       "84079        1  \n",
       "84080        1  \n",
       "84081        4  \n",
       "\n",
       "[72329 rows x 27 columns]"
      ]
     },
     "execution_count": 885,
     "metadata": {},
     "output_type": "execute_result"
    }
   ],
   "source": [
    "# Concat labels8 to results DataFrame\n",
    "df_Abilitech_final1=pd.concat([df_Abilitech_final1, labels8], axis=1,join='inner')\n",
    "df_Abilitech_final1=df_Abilitech_final1.rename(columns={'AP001231_Obtain_Medical_Insurance_from_a_Fraternal_or_Other_Membership_Group_rank_base_20_IFLGC561':'Obtain medical insurance from fraternal/other membership'})\n",
    "df_Abilitech_final1"
   ]
  },
  {
   "cell_type": "code",
   "execution_count": 886,
   "id": "de05205b",
   "metadata": {},
   "outputs": [
    {
     "data": {
      "text/plain": [
       "<Axes: xlabel='labels8', ylabel='Obtain medical insurance from fraternal/other membership'>"
      ]
     },
     "execution_count": 886,
     "metadata": {},
     "output_type": "execute_result"
    },
    {
     "data": {
      "image/png": "[encoded data removed]",
      "text/plain": [
       "<Figure size 640x480 with 1 Axes>"
      ]
     },
     "metadata": {},
     "output_type": "display_data"
    }
   ],
   "source": [
    "sns.boxplot(data=df_Abilitech_final1, x=\"labels8\", y=\"Obtain medical insurance from fraternal/other membership\")"
   ]
  },
  {
   "cell_type": "markdown",
   "id": "d662f36b",
   "metadata": {},
   "source": [
    "Analysis of the results:\\\n",
    "Based on the boxplot visualization, the average number of customers of obtaining medical insurance from fraternal/other membership is around 10. The maximum customer number is 20. However, there are around 13 customers on average in label 1,2,4,6 to obtain medical insurance from fraternal/other membership. The customers in 0,3,5,7 only have around 11 customers on average to obtain medical insurance from fraternal/other membership.    "
   ]
  },
  {
   "cell_type": "code",
   "execution_count": 887,
   "id": "327fced2",
   "metadata": {},
   "outputs": [],
   "source": [
    "df_ap_demo = pd.read_csv('data/ap_demo.csv', index_col = None, header=0) "
   ]
  },
  {
   "cell_type": "code",
   "execution_count": 888,
   "id": "7f9b102e",
   "metadata": {},
   "outputs": [],
   "source": [
    "#import function for label encoder\n",
    "from sklearn.preprocessing import LabelEncoder \n",
    "# label encoder to a simple abbreviation\n",
    "lb = LabelEncoder() "
   ]
  },
  {
   "cell_type": "code",
   "execution_count": 889,
   "id": "2f72c2dd",
   "metadata": {},
   "outputs": [
    {
     "data": {
      "text/html": [
       "<div>\n",
       "<style scoped>\n",
       "    .dataframe tbody tr th:only-of-type {\n",
       "        vertical-align: middle;\n",
       "    }\n",
       "\n",
       "    .dataframe tbody tr th {\n",
       "        vertical-align: top;\n",
       "    }\n",
       "\n",
       "    .dataframe thead th {\n",
       "        text-align: right;\n",
       "    }\n",
       "</style>\n",
       "<table border=\"1\" class=\"dataframe\">\n",
       "  <thead>\n",
       "    <tr style=\"text-align: right;\">\n",
       "      <th></th>\n",
       "      <th>Unnamed: 0</th>\n",
       "      <th>Income_Dollars</th>\n",
       "      <th>Age</th>\n",
       "      <th>Adults_in_Household</th>\n",
       "      <th>Househoold_Size</th>\n",
       "      <th>Discretionary_Spending_Dollars</th>\n",
       "      <th>Homeowner</th>\n",
       "      <th>Married</th>\n",
       "      <th>Predict_4</th>\n",
       "      <th>Age_Cat</th>\n",
       "      <th>Income_Cat</th>\n",
       "      <th>Household_Cat</th>\n",
       "    </tr>\n",
       "  </thead>\n",
       "  <tbody>\n",
       "    <tr>\n",
       "      <th>0</th>\n",
       "      <td>0</td>\n",
       "      <td>38000</td>\n",
       "      <td>26</td>\n",
       "      <td>2</td>\n",
       "      <td>3</td>\n",
       "      <td>5903</td>\n",
       "      <td>0</td>\n",
       "      <td>1</td>\n",
       "      <td>3</td>\n",
       "      <td>1</td>\n",
       "      <td>1</td>\n",
       "      <td>2</td>\n",
       "    </tr>\n",
       "    <tr>\n",
       "      <th>1</th>\n",
       "      <td>1</td>\n",
       "      <td>49000</td>\n",
       "      <td>24</td>\n",
       "      <td>1</td>\n",
       "      <td>1</td>\n",
       "      <td>17239</td>\n",
       "      <td>0</td>\n",
       "      <td>1</td>\n",
       "      <td>2</td>\n",
       "      <td>1</td>\n",
       "      <td>1</td>\n",
       "      <td>0</td>\n",
       "    </tr>\n",
       "    <tr>\n",
       "      <th>2</th>\n",
       "      <td>2</td>\n",
       "      <td>11000</td>\n",
       "      <td>18</td>\n",
       "      <td>2</td>\n",
       "      <td>3</td>\n",
       "      <td>9483</td>\n",
       "      <td>0</td>\n",
       "      <td>0</td>\n",
       "      <td>3</td>\n",
       "      <td>1</td>\n",
       "      <td>1</td>\n",
       "      <td>2</td>\n",
       "    </tr>\n",
       "    <tr>\n",
       "      <th>3</th>\n",
       "      <td>3</td>\n",
       "      <td>52000</td>\n",
       "      <td>60</td>\n",
       "      <td>1</td>\n",
       "      <td>1</td>\n",
       "      <td>3429</td>\n",
       "      <td>0</td>\n",
       "      <td>0</td>\n",
       "      <td>0</td>\n",
       "      <td>0</td>\n",
       "      <td>1</td>\n",
       "      <td>0</td>\n",
       "    </tr>\n",
       "    <tr>\n",
       "      <th>4</th>\n",
       "      <td>4</td>\n",
       "      <td>67000</td>\n",
       "      <td>36</td>\n",
       "      <td>1</td>\n",
       "      <td>1</td>\n",
       "      <td>7284</td>\n",
       "      <td>0</td>\n",
       "      <td>0</td>\n",
       "      <td>3</td>\n",
       "      <td>1</td>\n",
       "      <td>0</td>\n",
       "      <td>0</td>\n",
       "    </tr>\n",
       "    <tr>\n",
       "      <th>...</th>\n",
       "      <td>...</td>\n",
       "      <td>...</td>\n",
       "      <td>...</td>\n",
       "      <td>...</td>\n",
       "      <td>...</td>\n",
       "      <td>...</td>\n",
       "      <td>...</td>\n",
       "      <td>...</td>\n",
       "      <td>...</td>\n",
       "      <td>...</td>\n",
       "      <td>...</td>\n",
       "      <td>...</td>\n",
       "    </tr>\n",
       "    <tr>\n",
       "      <th>84077</th>\n",
       "      <td>84077</td>\n",
       "      <td>62000</td>\n",
       "      <td>24</td>\n",
       "      <td>2</td>\n",
       "      <td>2</td>\n",
       "      <td>7677</td>\n",
       "      <td>1</td>\n",
       "      <td>1</td>\n",
       "      <td>2</td>\n",
       "      <td>1</td>\n",
       "      <td>0</td>\n",
       "      <td>1</td>\n",
       "    </tr>\n",
       "    <tr>\n",
       "      <th>84078</th>\n",
       "      <td>84078</td>\n",
       "      <td>29000</td>\n",
       "      <td>42</td>\n",
       "      <td>3</td>\n",
       "      <td>5</td>\n",
       "      <td>3623</td>\n",
       "      <td>0</td>\n",
       "      <td>0</td>\n",
       "      <td>1</td>\n",
       "      <td>1</td>\n",
       "      <td>1</td>\n",
       "      <td>4</td>\n",
       "    </tr>\n",
       "    <tr>\n",
       "      <th>84079</th>\n",
       "      <td>84079</td>\n",
       "      <td>22000</td>\n",
       "      <td>80</td>\n",
       "      <td>2</td>\n",
       "      <td>2</td>\n",
       "      <td>9665</td>\n",
       "      <td>0</td>\n",
       "      <td>0</td>\n",
       "      <td>0</td>\n",
       "      <td>0</td>\n",
       "      <td>1</td>\n",
       "      <td>1</td>\n",
       "    </tr>\n",
       "    <tr>\n",
       "      <th>84080</th>\n",
       "      <td>84080</td>\n",
       "      <td>52000</td>\n",
       "      <td>66</td>\n",
       "      <td>1</td>\n",
       "      <td>2</td>\n",
       "      <td>10229</td>\n",
       "      <td>0</td>\n",
       "      <td>0</td>\n",
       "      <td>2</td>\n",
       "      <td>0</td>\n",
       "      <td>1</td>\n",
       "      <td>1</td>\n",
       "    </tr>\n",
       "    <tr>\n",
       "      <th>84081</th>\n",
       "      <td>84081</td>\n",
       "      <td>36000</td>\n",
       "      <td>38</td>\n",
       "      <td>1</td>\n",
       "      <td>1</td>\n",
       "      <td>10614</td>\n",
       "      <td>0</td>\n",
       "      <td>0</td>\n",
       "      <td>0</td>\n",
       "      <td>1</td>\n",
       "      <td>1</td>\n",
       "      <td>0</td>\n",
       "    </tr>\n",
       "  </tbody>\n",
       "</table>\n",
       "<p>84082 rows × 12 columns</p>\n",
       "</div>"
      ],
      "text/plain": [
       "       Unnamed: 0  Income_Dollars  Age  Adults_in_Household  Househoold_Size  \\\n",
       "0               0           38000   26                    2                3   \n",
       "1               1           49000   24                    1                1   \n",
       "2               2           11000   18                    2                3   \n",
       "3               3           52000   60                    1                1   \n",
       "4               4           67000   36                    1                1   \n",
       "...           ...             ...  ...                  ...              ...   \n",
       "84077       84077           62000   24                    2                2   \n",
       "84078       84078           29000   42                    3                5   \n",
       "84079       84079           22000   80                    2                2   \n",
       "84080       84080           52000   66                    1                2   \n",
       "84081       84081           36000   38                    1                1   \n",
       "\n",
       "       Discretionary_Spending_Dollars  Homeowner  Married  Predict_4  Age_Cat  \\\n",
       "0                                5903          0        1          3        1   \n",
       "1                               17239          0        1          2        1   \n",
       "2                                9483          0        0          3        1   \n",
       "3                                3429          0        0          0        0   \n",
       "4                                7284          0        0          3        1   \n",
       "...                               ...        ...      ...        ...      ...   \n",
       "84077                            7677          1        1          2        1   \n",
       "84078                            3623          0        0          1        1   \n",
       "84079                            9665          0        0          0        0   \n",
       "84080                           10229          0        0          2        0   \n",
       "84081                           10614          0        0          0        1   \n",
       "\n",
       "       Income_Cat  Household_Cat  \n",
       "0               1              2  \n",
       "1               1              0  \n",
       "2               1              2  \n",
       "3               1              0  \n",
       "4               0              0  \n",
       "...           ...            ...  \n",
       "84077           0              1  \n",
       "84078           1              4  \n",
       "84079           1              1  \n",
       "84080           1              1  \n",
       "84081           1              0  \n",
       "\n",
       "[84082 rows x 12 columns]"
      ]
     },
     "execution_count": 889,
     "metadata": {},
     "output_type": "execute_result"
    }
   ],
   "source": [
    "df_ap_demo=df_ap_demo.drop(['APID'],axis=1)\n",
    "df_ap_demo['Age_Cat'] = lb.fit_transform(df_ap_demo['Age_Cat']) \n",
    "df_ap_demo['Income_Cat'] = lb.fit_transform(df_ap_demo['Income_Cat'])\n",
    "df_ap_demo['Household_Cat'] = lb.fit_transform(df_ap_demo['Household_Cat'])\n",
    "df_ap_demo"
   ]
  },
  {
   "cell_type": "code",
   "execution_count": 890,
   "id": "b83e0c62",
   "metadata": {},
   "outputs": [],
   "source": [
    "scaler.fit(df_ap_demo)\n",
    "StandardScaler(copy=True, with_mean=True, with_std=True)\n",
    "df_ap_demo_scaled=scaler.transform(df_ap_demo)"
   ]
  },
  {
   "cell_type": "code",
   "execution_count": 891,
   "id": "74f1812e",
   "metadata": {},
   "outputs": [
    {
     "name": "stderr",
     "output_type": "stream",
     "text": [
      "C:\\Users\\HD\\anaconda3\\Lib\\site-packages\\sklearn\\cluster\\_kmeans.py:1412: FutureWarning: The default value of `n_init` will change from 10 to 'auto' in 1.4. Set the value of `n_init` explicitly to suppress the warning\n",
      "  super()._check_params_vs_input(X, default_n_init=10)\n"
     ]
    },
    {
     "name": "stdout",
     "output_type": "stream",
     "text": [
      "iteration 1 done\n"
     ]
    },
    {
     "name": "stderr",
     "output_type": "stream",
     "text": [
      "C:\\Users\\HD\\anaconda3\\Lib\\site-packages\\sklearn\\cluster\\_kmeans.py:1412: FutureWarning: The default value of `n_init` will change from 10 to 'auto' in 1.4. Set the value of `n_init` explicitly to suppress the warning\n",
      "  super()._check_params_vs_input(X, default_n_init=10)\n"
     ]
    },
    {
     "name": "stdout",
     "output_type": "stream",
     "text": [
      "iteration 2 done\n"
     ]
    },
    {
     "name": "stderr",
     "output_type": "stream",
     "text": [
      "C:\\Users\\HD\\anaconda3\\Lib\\site-packages\\sklearn\\cluster\\_kmeans.py:1412: FutureWarning: The default value of `n_init` will change from 10 to 'auto' in 1.4. Set the value of `n_init` explicitly to suppress the warning\n",
      "  super()._check_params_vs_input(X, default_n_init=10)\n"
     ]
    },
    {
     "name": "stdout",
     "output_type": "stream",
     "text": [
      "iteration 3 done\n"
     ]
    },
    {
     "name": "stderr",
     "output_type": "stream",
     "text": [
      "C:\\Users\\HD\\anaconda3\\Lib\\site-packages\\sklearn\\cluster\\_kmeans.py:1412: FutureWarning: The default value of `n_init` will change from 10 to 'auto' in 1.4. Set the value of `n_init` explicitly to suppress the warning\n",
      "  super()._check_params_vs_input(X, default_n_init=10)\n"
     ]
    },
    {
     "name": "stdout",
     "output_type": "stream",
     "text": [
      "iteration 4 done\n"
     ]
    },
    {
     "name": "stderr",
     "output_type": "stream",
     "text": [
      "C:\\Users\\HD\\anaconda3\\Lib\\site-packages\\sklearn\\cluster\\_kmeans.py:1412: FutureWarning: The default value of `n_init` will change from 10 to 'auto' in 1.4. Set the value of `n_init` explicitly to suppress the warning\n",
      "  super()._check_params_vs_input(X, default_n_init=10)\n"
     ]
    },
    {
     "name": "stdout",
     "output_type": "stream",
     "text": [
      "iteration 5 done\n"
     ]
    },
    {
     "name": "stderr",
     "output_type": "stream",
     "text": [
      "C:\\Users\\HD\\anaconda3\\Lib\\site-packages\\sklearn\\cluster\\_kmeans.py:1412: FutureWarning: The default value of `n_init` will change from 10 to 'auto' in 1.4. Set the value of `n_init` explicitly to suppress the warning\n",
      "  super()._check_params_vs_input(X, default_n_init=10)\n"
     ]
    },
    {
     "name": "stdout",
     "output_type": "stream",
     "text": [
      "iteration 6 done\n"
     ]
    },
    {
     "name": "stderr",
     "output_type": "stream",
     "text": [
      "C:\\Users\\HD\\anaconda3\\Lib\\site-packages\\sklearn\\cluster\\_kmeans.py:1412: FutureWarning: The default value of `n_init` will change from 10 to 'auto' in 1.4. Set the value of `n_init` explicitly to suppress the warning\n",
      "  super()._check_params_vs_input(X, default_n_init=10)\n"
     ]
    },
    {
     "name": "stdout",
     "output_type": "stream",
     "text": [
      "iteration 7 done\n"
     ]
    },
    {
     "name": "stderr",
     "output_type": "stream",
     "text": [
      "C:\\Users\\HD\\anaconda3\\Lib\\site-packages\\sklearn\\cluster\\_kmeans.py:1412: FutureWarning: The default value of `n_init` will change from 10 to 'auto' in 1.4. Set the value of `n_init` explicitly to suppress the warning\n",
      "  super()._check_params_vs_input(X, default_n_init=10)\n"
     ]
    },
    {
     "name": "stdout",
     "output_type": "stream",
     "text": [
      "iteration 8 done\n"
     ]
    },
    {
     "name": "stderr",
     "output_type": "stream",
     "text": [
      "C:\\Users\\HD\\anaconda3\\Lib\\site-packages\\sklearn\\cluster\\_kmeans.py:1412: FutureWarning: The default value of `n_init` will change from 10 to 'auto' in 1.4. Set the value of `n_init` explicitly to suppress the warning\n",
      "  super()._check_params_vs_input(X, default_n_init=10)\n"
     ]
    },
    {
     "name": "stdout",
     "output_type": "stream",
     "text": [
      "iteration 9 done\n"
     ]
    },
    {
     "name": "stderr",
     "output_type": "stream",
     "text": [
      "C:\\Users\\HD\\anaconda3\\Lib\\site-packages\\sklearn\\cluster\\_kmeans.py:1412: FutureWarning: The default value of `n_init` will change from 10 to 'auto' in 1.4. Set the value of `n_init` explicitly to suppress the warning\n",
      "  super()._check_params_vs_input(X, default_n_init=10)\n"
     ]
    },
    {
     "name": "stdout",
     "output_type": "stream",
     "text": [
      "iteration 10 done\n"
     ]
    },
    {
     "name": "stderr",
     "output_type": "stream",
     "text": [
      "C:\\Users\\HD\\anaconda3\\Lib\\site-packages\\sklearn\\cluster\\_kmeans.py:1412: FutureWarning: The default value of `n_init` will change from 10 to 'auto' in 1.4. Set the value of `n_init` explicitly to suppress the warning\n",
      "  super()._check_params_vs_input(X, default_n_init=10)\n"
     ]
    },
    {
     "name": "stdout",
     "output_type": "stream",
     "text": [
      "iteration 11 done\n"
     ]
    },
    {
     "name": "stderr",
     "output_type": "stream",
     "text": [
      "C:\\Users\\HD\\anaconda3\\Lib\\site-packages\\sklearn\\cluster\\_kmeans.py:1412: FutureWarning: The default value of `n_init` will change from 10 to 'auto' in 1.4. Set the value of `n_init` explicitly to suppress the warning\n",
      "  super()._check_params_vs_input(X, default_n_init=10)\n"
     ]
    },
    {
     "name": "stdout",
     "output_type": "stream",
     "text": [
      "iteration 12 done\n"
     ]
    },
    {
     "name": "stderr",
     "output_type": "stream",
     "text": [
      "C:\\Users\\HD\\anaconda3\\Lib\\site-packages\\sklearn\\cluster\\_kmeans.py:1412: FutureWarning: The default value of `n_init` will change from 10 to 'auto' in 1.4. Set the value of `n_init` explicitly to suppress the warning\n",
      "  super()._check_params_vs_input(X, default_n_init=10)\n"
     ]
    },
    {
     "name": "stdout",
     "output_type": "stream",
     "text": [
      "iteration 13 done\n"
     ]
    },
    {
     "name": "stderr",
     "output_type": "stream",
     "text": [
      "C:\\Users\\HD\\anaconda3\\Lib\\site-packages\\sklearn\\cluster\\_kmeans.py:1412: FutureWarning: The default value of `n_init` will change from 10 to 'auto' in 1.4. Set the value of `n_init` explicitly to suppress the warning\n",
      "  super()._check_params_vs_input(X, default_n_init=10)\n"
     ]
    },
    {
     "name": "stdout",
     "output_type": "stream",
     "text": [
      "iteration 14 done\n"
     ]
    },
    {
     "name": "stderr",
     "output_type": "stream",
     "text": [
      "C:\\Users\\HD\\anaconda3\\Lib\\site-packages\\sklearn\\cluster\\_kmeans.py:1412: FutureWarning: The default value of `n_init` will change from 10 to 'auto' in 1.4. Set the value of `n_init` explicitly to suppress the warning\n",
      "  super()._check_params_vs_input(X, default_n_init=10)\n"
     ]
    },
    {
     "name": "stdout",
     "output_type": "stream",
     "text": [
      "iteration 15 done\n"
     ]
    },
    {
     "name": "stderr",
     "output_type": "stream",
     "text": [
      "C:\\Users\\HD\\anaconda3\\Lib\\site-packages\\sklearn\\cluster\\_kmeans.py:1412: FutureWarning: The default value of `n_init` will change from 10 to 'auto' in 1.4. Set the value of `n_init` explicitly to suppress the warning\n",
      "  super()._check_params_vs_input(X, default_n_init=10)\n"
     ]
    },
    {
     "name": "stdout",
     "output_type": "stream",
     "text": [
      "iteration 16 done\n"
     ]
    },
    {
     "name": "stderr",
     "output_type": "stream",
     "text": [
      "C:\\Users\\HD\\anaconda3\\Lib\\site-packages\\sklearn\\cluster\\_kmeans.py:1412: FutureWarning: The default value of `n_init` will change from 10 to 'auto' in 1.4. Set the value of `n_init` explicitly to suppress the warning\n",
      "  super()._check_params_vs_input(X, default_n_init=10)\n"
     ]
    },
    {
     "name": "stdout",
     "output_type": "stream",
     "text": [
      "iteration 17 done\n"
     ]
    },
    {
     "name": "stderr",
     "output_type": "stream",
     "text": [
      "C:\\Users\\HD\\anaconda3\\Lib\\site-packages\\sklearn\\cluster\\_kmeans.py:1412: FutureWarning: The default value of `n_init` will change from 10 to 'auto' in 1.4. Set the value of `n_init` explicitly to suppress the warning\n",
      "  super()._check_params_vs_input(X, default_n_init=10)\n"
     ]
    },
    {
     "name": "stdout",
     "output_type": "stream",
     "text": [
      "iteration 18 done\n"
     ]
    },
    {
     "name": "stderr",
     "output_type": "stream",
     "text": [
      "C:\\Users\\HD\\anaconda3\\Lib\\site-packages\\sklearn\\cluster\\_kmeans.py:1412: FutureWarning: The default value of `n_init` will change from 10 to 'auto' in 1.4. Set the value of `n_init` explicitly to suppress the warning\n",
      "  super()._check_params_vs_input(X, default_n_init=10)\n"
     ]
    },
    {
     "name": "stdout",
     "output_type": "stream",
     "text": [
      "iteration 19 done\n"
     ]
    },
    {
     "name": "stderr",
     "output_type": "stream",
     "text": [
      "C:\\Users\\HD\\anaconda3\\Lib\\site-packages\\sklearn\\cluster\\_kmeans.py:1412: FutureWarning: The default value of `n_init` will change from 10 to 'auto' in 1.4. Set the value of `n_init` explicitly to suppress the warning\n",
      "  super()._check_params_vs_input(X, default_n_init=10)\n"
     ]
    },
    {
     "name": "stdout",
     "output_type": "stream",
     "text": [
      "iteration 20 done\n"
     ]
    },
    {
     "data": {
      "image/png": "[encoded data removed]",
      "text/plain": [
       "<Figure size 640x480 with 1 Axes>"
      ]
     },
     "metadata": {},
     "output_type": "display_data"
    }
   ],
   "source": [
    "# Create an inertias model using “ks = range(1, 21)\n",
    "\n",
    "ks = range(1,21)\n",
    "inertias = []\n",
    "for k in ks:\n",
    "     # Create a KMeans instance with k clusters: model\n",
    "    model1 = KMeans(n_clusters = k)\n",
    "    # Fit model to samples\n",
    "    model1.fit(df_ap_demo_scaled)\n",
    "    # Append the inertia to the list of inertias\n",
    "    inertias.append(model1.inertia_)\n",
    "\n",
    "    print(\"iteration {} done\".format(k))\n",
    "\n",
    "plt.plot(ks, inertias, '-o')\n",
    "\n",
    "plt.xlabel('number of clusters, k')\n",
    "\n",
    "plt.ylabel('inertia')\n",
    "\n",
    "plt.xticks(ks)\n",
    "\n",
    "plt.show()"
   ]
  },
  {
   "cell_type": "code",
   "execution_count": 892,
   "id": "f925b512",
   "metadata": {},
   "outputs": [
    {
     "name": "stderr",
     "output_type": "stream",
     "text": [
      "C:\\Users\\HD\\anaconda3\\Lib\\site-packages\\sklearn\\cluster\\_kmeans.py:1412: FutureWarning: The default value of `n_init` will change from 10 to 'auto' in 1.4. Set the value of `n_init` explicitly to suppress the warning\n",
      "  super()._check_params_vs_input(X, default_n_init=10)\n"
     ]
    },
    {
     "data": {
      "text/html": [
       "<style>#sk-container-id-19 {color: black;}#sk-container-id-19 pre{padding: 0;}#sk-container-id-19 div.sk-toggleable {background-color: white;}#sk-container-id-19 label.sk-toggleable__label {cursor: pointer;display: block;width: 100%;margin-bottom: 0;padding: 0.3em;box-sizing: border-box;text-align: center;}#sk-container-id-19 label.sk-toggleable__label-arrow:before {content: \"▸\";float: left;margin-right: 0.25em;color: #696969;}#sk-container-id-19 label.sk-toggleable__label-arrow:hover:before {color: black;}#sk-container-id-19 div.sk-estimator:hover label.sk-toggleable__label-arrow:before {color: black;}#sk-container-id-19 div.sk-toggleable__content {max-height: 0;max-width: 0;overflow: hidden;text-align: left;background-color: #f0f8ff;}#sk-container-id-19 div.sk-toggleable__content pre {margin: 0.2em;color: black;border-radius: 0.25em;background-color: #f0f8ff;}#sk-container-id-19 input.sk-toggleable__control:checked~div.sk-toggleable__content {max-height: 200px;max-width: 100%;overflow: auto;}#sk-container-id-19 input.sk-toggleable__control:checked~label.sk-toggleable__label-arrow:before {content: \"▾\";}#sk-container-id-19 div.sk-estimator input.sk-toggleable__control:checked~label.sk-toggleable__label {background-color: #d4ebff;}#sk-container-id-19 div.sk-label input.sk-toggleable__control:checked~label.sk-toggleable__label {background-color: #d4ebff;}#sk-container-id-19 input.sk-hidden--visually {border: 0;clip: rect(1px 1px 1px 1px);clip: rect(1px, 1px, 1px, 1px);height: 1px;margin: -1px;overflow: hidden;padding: 0;position: absolute;width: 1px;}#sk-container-id-19 div.sk-estimator {font-family: monospace;background-color: #f0f8ff;border: 1px dotted black;border-radius: 0.25em;box-sizing: border-box;margin-bottom: 0.5em;}#sk-container-id-19 div.sk-estimator:hover {background-color: #d4ebff;}#sk-container-id-19 div.sk-parallel-item::after {content: \"\";width: 100%;border-bottom: 1px solid gray;flex-grow: 1;}#sk-container-id-19 div.sk-label:hover label.sk-toggleable__label {background-color: #d4ebff;}#sk-container-id-19 div.sk-serial::before {content: \"\";position: absolute;border-left: 1px solid gray;box-sizing: border-box;top: 0;bottom: 0;left: 50%;z-index: 0;}#sk-container-id-19 div.sk-serial {display: flex;flex-direction: column;align-items: center;background-color: white;padding-right: 0.2em;padding-left: 0.2em;position: relative;}#sk-container-id-19 div.sk-item {position: relative;z-index: 1;}#sk-container-id-19 div.sk-parallel {display: flex;align-items: stretch;justify-content: center;background-color: white;position: relative;}#sk-container-id-19 div.sk-item::before, #sk-container-id-19 div.sk-parallel-item::before {content: \"\";position: absolute;border-left: 1px solid gray;box-sizing: border-box;top: 0;bottom: 0;left: 50%;z-index: -1;}#sk-container-id-19 div.sk-parallel-item {display: flex;flex-direction: column;z-index: 1;position: relative;background-color: white;}#sk-container-id-19 div.sk-parallel-item:first-child::after {align-self: flex-end;width: 50%;}#sk-container-id-19 div.sk-parallel-item:last-child::after {align-self: flex-start;width: 50%;}#sk-container-id-19 div.sk-parallel-item:only-child::after {width: 0;}#sk-container-id-19 div.sk-dashed-wrapped {border: 1px dashed gray;margin: 0 0.4em 0.5em 0.4em;box-sizing: border-box;padding-bottom: 0.4em;background-color: white;}#sk-container-id-19 div.sk-label label {font-family: monospace;font-weight: bold;display: inline-block;line-height: 1.2em;}#sk-container-id-19 div.sk-label-container {text-align: center;}#sk-container-id-19 div.sk-container {/* jupyter's `normalize.less` sets `[hidden] { display: none; }` but bootstrap.min.css set `[hidden] { display: none !important; }` so we also need the `!important` here to be able to override the default hidden behavior on the sphinx rendered scikit-learn.org. See: https://github.com/scikit-learn/scikit-learn/issues/21755 */display: inline-block !important;position: relative;}#sk-container-id-19 div.sk-text-repr-fallback {display: none;}</style><div id=\"sk-container-id-19\" class=\"sk-top-container\"><div class=\"sk-text-repr-fallback\"><pre>KMeans()</pre><b>In a Jupyter environment, please rerun this cell to show the HTML representation or trust the notebook. <br />On GitHub, the HTML representation is unable to render, please try loading this page with nbviewer.org.</b></div><div class=\"sk-container\" hidden><div class=\"sk-item\"><div class=\"sk-estimator sk-toggleable\"><input class=\"sk-toggleable__control sk-hidden--visually\" id=\"sk-estimator-id-19\" type=\"checkbox\" checked><label for=\"sk-estimator-id-19\" class=\"sk-toggleable__label sk-toggleable__label-arrow\">KMeans</label><div class=\"sk-toggleable__content\"><pre>KMeans()</pre></div></div></div></div></div>"
      ],
      "text/plain": [
       "KMeans()"
      ]
     },
     "execution_count": 892,
     "metadata": {},
     "output_type": "execute_result"
    }
   ],
   "source": [
    "# Create a KMeans cluster based on the inertias model chart\n",
    "model=KMeans(n_clusters=8)\n",
    "model.fit(df_ap_demo_scaled)"
   ]
  },
  {
   "cell_type": "code",
   "execution_count": 893,
   "id": "61b5b21f",
   "metadata": {},
   "outputs": [],
   "source": [
    "# Create a dataframe named labels8 and renamed it \n",
    "labels8=model.predict(df_ap_demo_scaled)\n",
    "labels8=pd.DataFrame(labels8)\n",
    "labels8=labels8.rename(columns={0:'labels8'})\n",
    "df_ap_demo_scaled=pd.DataFrame(df_ap_demo_scaled)"
   ]
  },
  {
   "cell_type": "code",
   "execution_count": 894,
   "id": "16ff9ccb",
   "metadata": {},
   "outputs": [
    {
     "data": {
      "text/html": [
       "<div>\n",
       "<style scoped>\n",
       "    .dataframe tbody tr th:only-of-type {\n",
       "        vertical-align: middle;\n",
       "    }\n",
       "\n",
       "    .dataframe tbody tr th {\n",
       "        vertical-align: top;\n",
       "    }\n",
       "\n",
       "    .dataframe thead th {\n",
       "        text-align: right;\n",
       "    }\n",
       "</style>\n",
       "<table border=\"1\" class=\"dataframe\">\n",
       "  <thead>\n",
       "    <tr style=\"text-align: right;\">\n",
       "      <th></th>\n",
       "      <th>Unnamed: 0</th>\n",
       "      <th>Income_Dollars</th>\n",
       "      <th>Age</th>\n",
       "      <th>Adults_in_Household</th>\n",
       "      <th>Househoold_Size</th>\n",
       "      <th>Discretionary_Spending_Dollars</th>\n",
       "      <th>Homeowner</th>\n",
       "      <th>Married</th>\n",
       "      <th>Predict_4</th>\n",
       "      <th>Age_Cat</th>\n",
       "      <th>Income_Cat</th>\n",
       "      <th>Household_Cat</th>\n",
       "      <th>labels8</th>\n",
       "    </tr>\n",
       "  </thead>\n",
       "  <tbody>\n",
       "    <tr>\n",
       "      <th>0</th>\n",
       "      <td>0</td>\n",
       "      <td>38000</td>\n",
       "      <td>26</td>\n",
       "      <td>2</td>\n",
       "      <td>3</td>\n",
       "      <td>5903</td>\n",
       "      <td>0</td>\n",
       "      <td>1</td>\n",
       "      <td>3</td>\n",
       "      <td>1</td>\n",
       "      <td>1</td>\n",
       "      <td>2</td>\n",
       "      <td>0</td>\n",
       "    </tr>\n",
       "    <tr>\n",
       "      <th>1</th>\n",
       "      <td>1</td>\n",
       "      <td>49000</td>\n",
       "      <td>24</td>\n",
       "      <td>1</td>\n",
       "      <td>1</td>\n",
       "      <td>17239</td>\n",
       "      <td>0</td>\n",
       "      <td>1</td>\n",
       "      <td>2</td>\n",
       "      <td>1</td>\n",
       "      <td>1</td>\n",
       "      <td>0</td>\n",
       "      <td>2</td>\n",
       "    </tr>\n",
       "    <tr>\n",
       "      <th>2</th>\n",
       "      <td>2</td>\n",
       "      <td>11000</td>\n",
       "      <td>18</td>\n",
       "      <td>2</td>\n",
       "      <td>3</td>\n",
       "      <td>9483</td>\n",
       "      <td>0</td>\n",
       "      <td>0</td>\n",
       "      <td>3</td>\n",
       "      <td>1</td>\n",
       "      <td>1</td>\n",
       "      <td>2</td>\n",
       "      <td>2</td>\n",
       "    </tr>\n",
       "    <tr>\n",
       "      <th>3</th>\n",
       "      <td>3</td>\n",
       "      <td>52000</td>\n",
       "      <td>60</td>\n",
       "      <td>1</td>\n",
       "      <td>1</td>\n",
       "      <td>3429</td>\n",
       "      <td>0</td>\n",
       "      <td>0</td>\n",
       "      <td>0</td>\n",
       "      <td>0</td>\n",
       "      <td>1</td>\n",
       "      <td>0</td>\n",
       "      <td>4</td>\n",
       "    </tr>\n",
       "    <tr>\n",
       "      <th>4</th>\n",
       "      <td>4</td>\n",
       "      <td>67000</td>\n",
       "      <td>36</td>\n",
       "      <td>1</td>\n",
       "      <td>1</td>\n",
       "      <td>7284</td>\n",
       "      <td>0</td>\n",
       "      <td>0</td>\n",
       "      <td>3</td>\n",
       "      <td>1</td>\n",
       "      <td>0</td>\n",
       "      <td>0</td>\n",
       "      <td>1</td>\n",
       "    </tr>\n",
       "    <tr>\n",
       "      <th>...</th>\n",
       "      <td>...</td>\n",
       "      <td>...</td>\n",
       "      <td>...</td>\n",
       "      <td>...</td>\n",
       "      <td>...</td>\n",
       "      <td>...</td>\n",
       "      <td>...</td>\n",
       "      <td>...</td>\n",
       "      <td>...</td>\n",
       "      <td>...</td>\n",
       "      <td>...</td>\n",
       "      <td>...</td>\n",
       "      <td>...</td>\n",
       "    </tr>\n",
       "    <tr>\n",
       "      <th>84077</th>\n",
       "      <td>84077</td>\n",
       "      <td>62000</td>\n",
       "      <td>24</td>\n",
       "      <td>2</td>\n",
       "      <td>2</td>\n",
       "      <td>7677</td>\n",
       "      <td>1</td>\n",
       "      <td>1</td>\n",
       "      <td>2</td>\n",
       "      <td>1</td>\n",
       "      <td>0</td>\n",
       "      <td>1</td>\n",
       "      <td>0</td>\n",
       "    </tr>\n",
       "    <tr>\n",
       "      <th>84078</th>\n",
       "      <td>84078</td>\n",
       "      <td>29000</td>\n",
       "      <td>42</td>\n",
       "      <td>3</td>\n",
       "      <td>5</td>\n",
       "      <td>3623</td>\n",
       "      <td>0</td>\n",
       "      <td>0</td>\n",
       "      <td>1</td>\n",
       "      <td>1</td>\n",
       "      <td>1</td>\n",
       "      <td>4</td>\n",
       "      <td>0</td>\n",
       "    </tr>\n",
       "    <tr>\n",
       "      <th>84079</th>\n",
       "      <td>84079</td>\n",
       "      <td>22000</td>\n",
       "      <td>80</td>\n",
       "      <td>2</td>\n",
       "      <td>2</td>\n",
       "      <td>9665</td>\n",
       "      <td>0</td>\n",
       "      <td>0</td>\n",
       "      <td>0</td>\n",
       "      <td>0</td>\n",
       "      <td>1</td>\n",
       "      <td>1</td>\n",
       "      <td>4</td>\n",
       "    </tr>\n",
       "    <tr>\n",
       "      <th>84080</th>\n",
       "      <td>84080</td>\n",
       "      <td>52000</td>\n",
       "      <td>66</td>\n",
       "      <td>1</td>\n",
       "      <td>2</td>\n",
       "      <td>10229</td>\n",
       "      <td>0</td>\n",
       "      <td>0</td>\n",
       "      <td>2</td>\n",
       "      <td>0</td>\n",
       "      <td>1</td>\n",
       "      <td>1</td>\n",
       "      <td>4</td>\n",
       "    </tr>\n",
       "    <tr>\n",
       "      <th>84081</th>\n",
       "      <td>84081</td>\n",
       "      <td>36000</td>\n",
       "      <td>38</td>\n",
       "      <td>1</td>\n",
       "      <td>1</td>\n",
       "      <td>10614</td>\n",
       "      <td>0</td>\n",
       "      <td>0</td>\n",
       "      <td>0</td>\n",
       "      <td>1</td>\n",
       "      <td>1</td>\n",
       "      <td>0</td>\n",
       "      <td>2</td>\n",
       "    </tr>\n",
       "  </tbody>\n",
       "</table>\n",
       "<p>84082 rows × 13 columns</p>\n",
       "</div>"
      ],
      "text/plain": [
       "       Unnamed: 0  Income_Dollars  Age  Adults_in_Household  Househoold_Size  \\\n",
       "0               0           38000   26                    2                3   \n",
       "1               1           49000   24                    1                1   \n",
       "2               2           11000   18                    2                3   \n",
       "3               3           52000   60                    1                1   \n",
       "4               4           67000   36                    1                1   \n",
       "...           ...             ...  ...                  ...              ...   \n",
       "84077       84077           62000   24                    2                2   \n",
       "84078       84078           29000   42                    3                5   \n",
       "84079       84079           22000   80                    2                2   \n",
       "84080       84080           52000   66                    1                2   \n",
       "84081       84081           36000   38                    1                1   \n",
       "\n",
       "       Discretionary_Spending_Dollars  Homeowner  Married  Predict_4  Age_Cat  \\\n",
       "0                                5903          0        1          3        1   \n",
       "1                               17239          0        1          2        1   \n",
       "2                                9483          0        0          3        1   \n",
       "3                                3429          0        0          0        0   \n",
       "4                                7284          0        0          3        1   \n",
       "...                               ...        ...      ...        ...      ...   \n",
       "84077                            7677          1        1          2        1   \n",
       "84078                            3623          0        0          1        1   \n",
       "84079                            9665          0        0          0        0   \n",
       "84080                           10229          0        0          2        0   \n",
       "84081                           10614          0        0          0        1   \n",
       "\n",
       "       Income_Cat  Household_Cat  labels8  \n",
       "0               1              2        0  \n",
       "1               1              0        2  \n",
       "2               1              2        2  \n",
       "3               1              0        4  \n",
       "4               0              0        1  \n",
       "...           ...            ...      ...  \n",
       "84077           0              1        0  \n",
       "84078           1              4        0  \n",
       "84079           1              1        4  \n",
       "84080           1              1        4  \n",
       "84081           1              0        2  \n",
       "\n",
       "[84082 rows x 13 columns]"
      ]
     },
     "execution_count": 894,
     "metadata": {},
     "output_type": "execute_result"
    }
   ],
   "source": [
    "# Concat labels8 to results DataFrame\n",
    "df_ap_demo=pd.concat([df_ap_demo, labels8], axis=1,join='inner')\n",
    "df_ap_demo"
   ]
  },
  {
   "cell_type": "code",
   "execution_count": 895,
   "id": "830e7107",
   "metadata": {},
   "outputs": [
    {
     "data": {
      "text/plain": [
       "<Axes: xlabel='labels8', ylabel='Age'>"
      ]
     },
     "execution_count": 895,
     "metadata": {},
     "output_type": "execute_result"
    },
    {
     "data": {
      "image/png": "[encoded data removed]",
      "text/plain": [
       "<Figure size 640x480 with 1 Axes>"
      ]
     },
     "metadata": {},
     "output_type": "display_data"
    }
   ],
   "source": [
    "sns.barplot(data=df_ap_demo, y=\"Age\", x=\"labels8\")"
   ]
  },
  {
   "cell_type": "markdown",
   "id": "bb70f7d9",
   "metadata": {},
   "source": [
    "Analysis of the results:\\\n",
    "I group the demographic file into 7 groups and I used barplot to analyze the relationship between age and those 8 groups. The label 1 group has the olders age which is around 61 years old. The label 3 and 5 group has the youngest age which is around 30 years old.. The customers in label 1,2,4,6,7 group are all above 50 years old. So the General company should focus on customers who are around 50 years old to make sales. "
   ]
  },
  {
   "cell_type": "code",
   "execution_count": 896,
   "id": "138cf234",
   "metadata": {},
   "outputs": [
    {
     "data": {
      "text/plain": [
       "<Axes: xlabel='PolicyStateCode', ylabel='ClaimTransCount'>"
      ]
     },
     "execution_count": 896,
     "metadata": {},
     "output_type": "execute_result"
    },
    {
     "data": {
      "image/png": "[encoded data removed]",
      "text/plain": [
       "<Figure size 1500x500 with 1 Axes>"
      ]
     },
     "metadata": {},
     "output_type": "display_data"
    }
   ],
   "source": [
    "# Scatterplot of policy information\n",
    "plt.figure(figsize=(15, 5))\n",
    "sns.scatterplot(data=df_ClaimMasterTrans, x=\"PolicyStateCode\", y=\"ClaimTransCount\", hue=\"ClaimStatus\")"
   ]
  },
  {
   "cell_type": "markdown",
   "id": "933febbc",
   "metadata": {},
   "source": [
    "Analysis of result: \n",
    "Based on the scatterplot, the average count of claimtrans for policy is 50. The maximum count of policy claimtrans is around 300. Most of the claimstatus is complete but still have a few are open. The Florida state has the most claimtrans. The South Dakota and Kansas states have the least claimtrans. "
   ]
  },
  {
   "cell_type": "markdown",
   "id": "d6415c8b",
   "metadata": {},
   "source": [
    "Section Summary:\n",
    "In this section, I used K-means model to group the Allitech data and demographic data and I built visualizations of the datasframes. \n",
    "#### The type of customer and demographic and policy information\n",
    "Based on the K-Means clustering and scatterplot visualization, the customer types of general company are over 50 years old and have fraternal or other membership for another insurance company.The maximum count of policy claimtrans is around 300. Most of the claimstatus is complete but still have a few are open. The Florida state has the most claimtrans. The South Dakota and Kansas states have the least claimtrans.The average number of policyholders of obtaining medical insurance from fraternal/other membership is around 10. The maximum customer number is 20. However, there are around 13 customers on average in label 1,2,4,6 to obtain medical insurance from fraternal/other membership. Most of the policyholder in the policy will buy insurances from another membership\n"
   ]
  },
  {
   "cell_type": "markdown",
   "id": "c21ebb9f",
   "metadata": {},
   "source": [
    "## 3.Modeling for predicting MQuotedTotalPayment "
   ]
  },
  {
   "cell_type": "markdown",
   "id": "ecb080cd",
   "metadata": {},
   "source": [
    "Description: This section is to use linear regression model to predict MQuotedTotalPayment"
   ]
  },
  {
   "cell_type": "code",
   "execution_count": 897,
   "id": "136e0263",
   "metadata": {},
   "outputs": [],
   "source": [
    "df_Abilitech = pd.read_csv('data/AP05.csv', index_col = None, header=0) "
   ]
  },
  {
   "cell_type": "code",
   "execution_count": 898,
   "id": "fc9e837f",
   "metadata": {},
   "outputs": [],
   "source": [
    "#merge dataframes\n",
    "df_MQuotedTotalPayment=pd.merge(df_MasterQuote,df_Abilitech,how='inner',on='AbilitecContactID')"
   ]
  },
  {
   "cell_type": "code",
   "execution_count": 899,
   "id": "a7b42aa1",
   "metadata": {},
   "outputs": [],
   "source": [
    "# drop null values \n",
    "df_MQuotedTotalPayment=df_MQuotedTotalPayment.dropna(how='any')"
   ]
  },
  {
   "cell_type": "code",
   "execution_count": 900,
   "id": "91b9f094",
   "metadata": {},
   "outputs": [],
   "source": [
    "#import function for label encoder\n",
    "from sklearn.preprocessing import LabelEncoder \n",
    "# label encoder to a simple abbreviation\n",
    "lb = LabelEncoder() "
   ]
  },
  {
   "cell_type": "code",
   "execution_count": 901,
   "id": "6a9e1efe",
   "metadata": {},
   "outputs": [],
   "source": [
    "df_MQuotedTotalPayment['BiFcCoverageInd'] = lb.fit_transform(df_MQuotedTotalPayment['BiFcCoverageInd']) \n",
    "df_MQuotedTotalPayment['CoverageTypeDescription'] = lb.fit_transform(df_MQuotedTotalPayment['CoverageTypeDescription'])\n",
    "df_MQuotedTotalPayment['NamedInsuredMaritalStatus'] = lb.fit_transform(df_MQuotedTotalPayment['NamedInsuredMaritalStatus']) \n",
    "df_MQuotedTotalPayment1=pd.DataFrame(df_MQuotedTotalPayment)\n",
    "df_MQuotedTotalPayment1=df_MQuotedTotalPayment1[['MQuotedTotalPayment','BiFcCoverageInd','CoverageTypeDescription','NamedInsuredMaritalStatus','NamedInsuredAge','NamedInsuredDriverPoints','ACX_ZIPCODE','DriversActive']]"
   ]
  },
  {
   "cell_type": "code",
   "execution_count": 902,
   "id": "d36ee6a2",
   "metadata": {},
   "outputs": [
    {
     "name": "stdout",
     "output_type": "stream",
     "text": [
      "<class 'pandas.core.frame.DataFrame'>\n",
      "Int64Index: 18734 entries, 0 to 34974\n",
      "Columns: 273 entries, Unnamed: 0 to AP001539_Watch_MTV2_rank_base_20_MFLG1188\n",
      "dtypes: float64(245), int32(3), int64(14), object(11)\n",
      "memory usage: 38.9+ MB\n"
     ]
    }
   ],
   "source": [
    "df_MQuotedTotalPayment.info()"
   ]
  },
  {
   "cell_type": "code",
   "execution_count": 903,
   "id": "4f1187ab",
   "metadata": {},
   "outputs": [],
   "source": [
    "df_MQuotedTotalPayment=df_MQuotedTotalPayment[['AbilitecContactID','MQuotedTotalPayment','BiFcCoverageInd','CoverageTypeDescription','NamedInsuredMaritalStatus','NamedInsuredAge','NamedInsuredDriverPoints','ACX_ZIPCODE']]"
   ]
  },
  {
   "cell_type": "code",
   "execution_count": 904,
   "id": "1e64a601",
   "metadata": {},
   "outputs": [],
   "source": [
    "#get dummy variables\n",
    "df_QTotalPayment_AbilitecID_dummy = pd.get_dummies(df_MQuotedTotalPayment['AbilitecContactID'])"
   ]
  },
  {
   "cell_type": "code",
   "execution_count": 905,
   "id": "c4fdaba6",
   "metadata": {},
   "outputs": [],
   "source": [
    "df_MQuotedTotalPayment=pd.concat([df_MQuotedTotalPayment,df_QTotalPayment_AbilitecID_dummy],axis=1)"
   ]
  },
  {
   "cell_type": "code",
   "execution_count": 906,
   "id": "954890c4",
   "metadata": {
    "scrolled": true
   },
   "outputs": [],
   "source": [
    "df_MQuotedTotalPayment=df_MQuotedTotalPayment[['AbilitecContactID','MQuotedTotalPayment','BiFcCoverageInd','CoverageTypeDescription','NamedInsuredMaritalStatus','NamedInsuredAge','NamedInsuredDriverPoints','ACX_ZIPCODE']]"
   ]
  },
  {
   "cell_type": "code",
   "execution_count": 907,
   "id": "f21ec555",
   "metadata": {},
   "outputs": [
    {
     "data": {
      "text/html": [
       "<div>\n",
       "<style scoped>\n",
       "    .dataframe tbody tr th:only-of-type {\n",
       "        vertical-align: middle;\n",
       "    }\n",
       "\n",
       "    .dataframe tbody tr th {\n",
       "        vertical-align: top;\n",
       "    }\n",
       "\n",
       "    .dataframe thead th {\n",
       "        text-align: right;\n",
       "    }\n",
       "</style>\n",
       "<table border=\"1\" class=\"dataframe\">\n",
       "  <thead>\n",
       "    <tr style=\"text-align: right;\">\n",
       "      <th></th>\n",
       "      <th>MQuotedTotalPayment</th>\n",
       "      <th>BiFcCoverageInd</th>\n",
       "      <th>CoverageTypeDescription</th>\n",
       "      <th>NamedInsuredMaritalStatus</th>\n",
       "      <th>NamedInsuredAge</th>\n",
       "      <th>NamedInsuredDriverPoints</th>\n",
       "      <th>ACX_ZIPCODE</th>\n",
       "    </tr>\n",
       "  </thead>\n",
       "  <tbody>\n",
       "    <tr>\n",
       "      <th>0</th>\n",
       "      <td>1136.00</td>\n",
       "      <td>1</td>\n",
       "      <td>2</td>\n",
       "      <td>5</td>\n",
       "      <td>40</td>\n",
       "      <td>0</td>\n",
       "      <td>97351</td>\n",
       "    </tr>\n",
       "    <tr>\n",
       "      <th>2</th>\n",
       "      <td>639.00</td>\n",
       "      <td>1</td>\n",
       "      <td>2</td>\n",
       "      <td>1</td>\n",
       "      <td>44</td>\n",
       "      <td>1</td>\n",
       "      <td>60506</td>\n",
       "    </tr>\n",
       "    <tr>\n",
       "      <th>3</th>\n",
       "      <td>1160.00</td>\n",
       "      <td>1</td>\n",
       "      <td>2</td>\n",
       "      <td>3</td>\n",
       "      <td>42</td>\n",
       "      <td>0</td>\n",
       "      <td>89103</td>\n",
       "    </tr>\n",
       "    <tr>\n",
       "      <th>5</th>\n",
       "      <td>3054.00</td>\n",
       "      <td>0</td>\n",
       "      <td>1</td>\n",
       "      <td>3</td>\n",
       "      <td>55</td>\n",
       "      <td>0</td>\n",
       "      <td>2915</td>\n",
       "    </tr>\n",
       "    <tr>\n",
       "      <th>8</th>\n",
       "      <td>1750.92</td>\n",
       "      <td>1</td>\n",
       "      <td>0</td>\n",
       "      <td>5</td>\n",
       "      <td>41</td>\n",
       "      <td>8</td>\n",
       "      <td>45224</td>\n",
       "    </tr>\n",
       "    <tr>\n",
       "      <th>...</th>\n",
       "      <td>...</td>\n",
       "      <td>...</td>\n",
       "      <td>...</td>\n",
       "      <td>...</td>\n",
       "      <td>...</td>\n",
       "      <td>...</td>\n",
       "      <td>...</td>\n",
       "    </tr>\n",
       "    <tr>\n",
       "      <th>34957</th>\n",
       "      <td>1245.07</td>\n",
       "      <td>3</td>\n",
       "      <td>2</td>\n",
       "      <td>5</td>\n",
       "      <td>46</td>\n",
       "      <td>0</td>\n",
       "      <td>34222</td>\n",
       "    </tr>\n",
       "    <tr>\n",
       "      <th>34965</th>\n",
       "      <td>588.00</td>\n",
       "      <td>1</td>\n",
       "      <td>2</td>\n",
       "      <td>1</td>\n",
       "      <td>43</td>\n",
       "      <td>0</td>\n",
       "      <td>47404</td>\n",
       "    </tr>\n",
       "    <tr>\n",
       "      <th>34971</th>\n",
       "      <td>970.00</td>\n",
       "      <td>1</td>\n",
       "      <td>2</td>\n",
       "      <td>3</td>\n",
       "      <td>29</td>\n",
       "      <td>0</td>\n",
       "      <td>83552</td>\n",
       "    </tr>\n",
       "    <tr>\n",
       "      <th>34973</th>\n",
       "      <td>941.00</td>\n",
       "      <td>1</td>\n",
       "      <td>2</td>\n",
       "      <td>5</td>\n",
       "      <td>48</td>\n",
       "      <td>0</td>\n",
       "      <td>64779</td>\n",
       "    </tr>\n",
       "    <tr>\n",
       "      <th>34974</th>\n",
       "      <td>1903.75</td>\n",
       "      <td>0</td>\n",
       "      <td>1</td>\n",
       "      <td>5</td>\n",
       "      <td>43</td>\n",
       "      <td>0</td>\n",
       "      <td>95660</td>\n",
       "    </tr>\n",
       "  </tbody>\n",
       "</table>\n",
       "<p>18734 rows × 7 columns</p>\n",
       "</div>"
      ],
      "text/plain": [
       "       MQuotedTotalPayment  BiFcCoverageInd  CoverageTypeDescription  \\\n",
       "0                  1136.00                1                        2   \n",
       "2                   639.00                1                        2   \n",
       "3                  1160.00                1                        2   \n",
       "5                  3054.00                0                        1   \n",
       "8                  1750.92                1                        0   \n",
       "...                    ...              ...                      ...   \n",
       "34957              1245.07                3                        2   \n",
       "34965               588.00                1                        2   \n",
       "34971               970.00                1                        2   \n",
       "34973               941.00                1                        2   \n",
       "34974              1903.75                0                        1   \n",
       "\n",
       "       NamedInsuredMaritalStatus  NamedInsuredAge  NamedInsuredDriverPoints  \\\n",
       "0                              5               40                         0   \n",
       "2                              1               44                         1   \n",
       "3                              3               42                         0   \n",
       "5                              3               55                         0   \n",
       "8                              5               41                         8   \n",
       "...                          ...              ...                       ...   \n",
       "34957                          5               46                         0   \n",
       "34965                          1               43                         0   \n",
       "34971                          3               29                         0   \n",
       "34973                          5               48                         0   \n",
       "34974                          5               43                         0   \n",
       "\n",
       "       ACX_ZIPCODE  \n",
       "0            97351  \n",
       "2            60506  \n",
       "3            89103  \n",
       "5             2915  \n",
       "8            45224  \n",
       "...            ...  \n",
       "34957        34222  \n",
       "34965        47404  \n",
       "34971        83552  \n",
       "34973        64779  \n",
       "34974        95660  \n",
       "\n",
       "[18734 rows x 7 columns]"
      ]
     },
     "execution_count": 907,
     "metadata": {},
     "output_type": "execute_result"
    }
   ],
   "source": [
    "# drop column\n",
    "df_MQuotedTotalPayment=df_MQuotedTotalPayment.drop(['AbilitecContactID'],axis=1)\n",
    "df_MQuotedTotalPayment"
   ]
  },
  {
   "cell_type": "markdown",
   "id": "b5a4b950",
   "metadata": {},
   "source": [
    "## 3.1 Use linear regression to predict MQuotedTotalPayment with ACX_ZIPCODE"
   ]
  },
  {
   "cell_type": "code",
   "execution_count": 908,
   "id": "9ba93bdb",
   "metadata": {},
   "outputs": [],
   "source": [
    "# import linear regression model\n",
    "from sklearn import datasets, linear_model\n",
    "from sklearn.metrics import mean_squared_error, explained_variance_score,r2_score "
   ]
  },
  {
   "cell_type": "code",
   "execution_count": 909,
   "id": "d36ba7e7",
   "metadata": {},
   "outputs": [],
   "source": [
    "X=df_MQuotedTotalPayment['ACX_ZIPCODE']\n",
    "X=X.values.reshape(-1,1)\n",
    "y=df_MQuotedTotalPayment['MQuotedTotalPayment']\n",
    "y=y.values.reshape(-1,1)"
   ]
  },
  {
   "cell_type": "code",
   "execution_count": 910,
   "id": "47a33918",
   "metadata": {},
   "outputs": [],
   "source": [
    "reg=linear_model.LinearRegression()\n",
    "reg.fit(X,y)\n",
    "predictions=reg.predict(X)"
   ]
  },
  {
   "cell_type": "code",
   "execution_count": 911,
   "id": "50c130c6",
   "metadata": {},
   "outputs": [
    {
     "data": {
      "image/png": "[encoded data removed]",
      "text/plain": [
       "<Figure size 640x480 with 1 Axes>"
      ]
     },
     "metadata": {},
     "output_type": "display_data"
    }
   ],
   "source": [
    "plt.scatter(X, y, color = 'blue') \n",
    "plt.show()"
   ]
  },
  {
   "cell_type": "code",
   "execution_count": 912,
   "id": "d98d9b5c",
   "metadata": {},
   "outputs": [
    {
     "data": {
      "image/png": "[encoded data removed]",
      "text/plain": [
       "<Figure size 640x480 with 1 Axes>"
      ]
     },
     "metadata": {},
     "output_type": "display_data"
    }
   ],
   "source": [
    "plt.plot(X, predictions, color = 'black')\n",
    "plt.show()"
   ]
  },
  {
   "cell_type": "code",
   "execution_count": 913,
   "id": "f09a33cc",
   "metadata": {},
   "outputs": [
    {
     "data": {
      "text/plain": [
       "0.008473160922407241"
      ]
     },
     "execution_count": 913,
     "metadata": {},
     "output_type": "execute_result"
    }
   ],
   "source": [
    "reg.score(X,y)"
   ]
  },
  {
   "cell_type": "markdown",
   "id": "e358ac31",
   "metadata": {},
   "source": [
    "Analysis of the Result: \\\n",
    "The score of the simple linear regression is 0.00847 and the linear regression model using ACX_ZIPCODE to predict MQuotedTotalPayment explains only a very small proportion (approximately 0.847%) of the variance in the MquotedTotalPayment. This means that the model is not effective at explaining or predicting MQuotedTotalPayment based on ACX_ZIPCODE. \n",
    "Most of the customers pay around 5000 dollars per month and their home's zipcode is between 20000 and 100000. \n",
    "Besides, the ACX_ZIPCODE has negative relationship with MQuotedTotalPayment which means if the number of ACX_ZIPCODE increases, the Month quoted totalpayment decreases. "
   ]
  },
  {
   "cell_type": "markdown",
   "id": "d0ed94d5",
   "metadata": {},
   "source": [
    "## 3.2 Use linear regression to predict MQuotedTotalPayment with NamedInsuredAge"
   ]
  },
  {
   "cell_type": "code",
   "execution_count": 914,
   "id": "f940841e",
   "metadata": {},
   "outputs": [],
   "source": [
    "# create X and y datasets and reshape them\n",
    "X=df_MQuotedTotalPayment['NamedInsuredAge']\n",
    "X=X.values.reshape(-1,1)\n",
    "y=df_MQuotedTotalPayment['MQuotedTotalPayment']\n",
    "y=y.values.reshape(-1,1)"
   ]
  },
  {
   "cell_type": "code",
   "execution_count": 915,
   "id": "bf5faf60",
   "metadata": {},
   "outputs": [],
   "source": [
    "reg=linear_model.LinearRegression()\n",
    "reg.fit(X,y)\n",
    "predictions=reg.predict(X)"
   ]
  },
  {
   "cell_type": "code",
   "execution_count": 916,
   "id": "7d83e30f",
   "metadata": {},
   "outputs": [],
   "source": [
    "reg=linear_model.LinearRegression()\n",
    "reg.fit(X,y)\n",
    "predictions=reg.predict(X)"
   ]
  },
  {
   "cell_type": "code",
   "execution_count": 917,
   "id": "e6580688",
   "metadata": {},
   "outputs": [
    {
     "data": {
      "image/png": "[encoded data removed]",
      "text/plain": [
       "<Figure size 640x480 with 1 Axes>"
      ]
     },
     "metadata": {},
     "output_type": "display_data"
    }
   ],
   "source": [
    "# create scatterplot for linear regression\n",
    "plt.scatter(X, y, color = 'blue') \n",
    "plt.show()"
   ]
  },
  {
   "cell_type": "code",
   "execution_count": 918,
   "id": "4668f041",
   "metadata": {},
   "outputs": [
    {
     "data": {
      "image/png": "[encoded data removed]",
      "text/plain": [
       "<Figure size 640x480 with 1 Axes>"
      ]
     },
     "metadata": {},
     "output_type": "display_data"
    }
   ],
   "source": [
    "plt.plot(X, predictions, color = 'black')\n",
    "plt.show()"
   ]
  },
  {
   "cell_type": "code",
   "execution_count": 919,
   "id": "8669c749",
   "metadata": {},
   "outputs": [
    {
     "data": {
      "text/plain": [
       "0.0029641374509422613"
      ]
     },
     "execution_count": 919,
     "metadata": {},
     "output_type": "execute_result"
    }
   ],
   "source": [
    "reg.score(X,y)"
   ]
  },
  {
   "cell_type": "markdown",
   "id": "9d96521a",
   "metadata": {},
   "source": [
    "Analysis of Result: \\\n",
    "The score of the simple linear regression is 0.00296 and the linear regression model using NamedInsuredAge to predict MQuotedTotalPayment explains only a very small proportion (approximately 0.296%) of the variance in the MquotedTotalPayment. This means that the model is not effective at explaining or predicting MQuotedTotalPayment based on NamedInsuredAge. \n",
    "Most of the customers pay around 7500 dollars per month and their ages are between 20 and 70 years old.  \n",
    "Besides, the NamedInsuredAge has negative relationship with MQuotedTotalPayment which means as NamedInsuredAge increases, the Month quoted totalpayment decreases. "
   ]
  },
  {
   "cell_type": "markdown",
   "id": "852dc35e",
   "metadata": {},
   "source": [
    "## 3.2 The most important features for MQuotedTotalPayment"
   ]
  },
  {
   "cell_type": "code",
   "execution_count": 920,
   "id": "ff340de3",
   "metadata": {},
   "outputs": [],
   "source": [
    "# drop column\n",
    "X=df_MQuotedTotalPayment.drop(['MQuotedTotalPayment'],axis=1)"
   ]
  },
  {
   "cell_type": "code",
   "execution_count": 921,
   "id": "8bc02190",
   "metadata": {},
   "outputs": [],
   "source": [
    "df_MQuotedTotalPayment['MQuotedTotalPayment'] = lb.fit_transform(df_MQuotedTotalPayment['MQuotedTotalPayment'])\n",
    "y=df_MQuotedTotalPayment['MQuotedTotalPayment']"
   ]
  },
  {
   "cell_type": "code",
   "execution_count": 922,
   "id": "f43a759c",
   "metadata": {},
   "outputs": [],
   "source": [
    "from sklearn.model_selection import train_test_split"
   ]
  },
  {
   "cell_type": "code",
   "execution_count": 923,
   "id": "fb089f20",
   "metadata": {},
   "outputs": [],
   "source": [
    "# Split the data for test/train\n",
    "X_train, X_test, y_train, y_test = train_test_split(X, y, test_size = 0.3, random_state = 42)"
   ]
  },
  {
   "cell_type": "code",
   "execution_count": 924,
   "id": "824fd109",
   "metadata": {},
   "outputs": [],
   "source": [
    "from sklearn.ensemble import RandomForestClassifier"
   ]
  },
  {
   "cell_type": "code",
   "execution_count": 925,
   "id": "d227fc27",
   "metadata": {},
   "outputs": [],
   "source": [
    "rf = RandomForestClassifier(n_estimators = 90, max_depth = 10) \n",
    "rf = rf.fit(X_train, y_train) "
   ]
  },
  {
   "cell_type": "code",
   "execution_count": 926,
   "id": "eded1b8f",
   "metadata": {},
   "outputs": [
    {
     "data": {
      "text/html": [
       "<div>\n",
       "<style scoped>\n",
       "    .dataframe tbody tr th:only-of-type {\n",
       "        vertical-align: middle;\n",
       "    }\n",
       "\n",
       "    .dataframe tbody tr th {\n",
       "        vertical-align: top;\n",
       "    }\n",
       "\n",
       "    .dataframe thead th {\n",
       "        text-align: right;\n",
       "    }\n",
       "</style>\n",
       "<table border=\"1\" class=\"dataframe\">\n",
       "  <thead>\n",
       "    <tr style=\"text-align: right;\">\n",
       "      <th></th>\n",
       "      <th>Feature</th>\n",
       "      <th>Importance</th>\n",
       "    </tr>\n",
       "  </thead>\n",
       "  <tbody>\n",
       "    <tr>\n",
       "      <th>5</th>\n",
       "      <td>ACX_ZIPCODE</td>\n",
       "      <td>0.369478</td>\n",
       "    </tr>\n",
       "    <tr>\n",
       "      <th>3</th>\n",
       "      <td>NamedInsuredAge</td>\n",
       "      <td>0.293948</td>\n",
       "    </tr>\n",
       "    <tr>\n",
       "      <th>4</th>\n",
       "      <td>NamedInsuredDriverPoints</td>\n",
       "      <td>0.180801</td>\n",
       "    </tr>\n",
       "    <tr>\n",
       "      <th>2</th>\n",
       "      <td>NamedInsuredMaritalStatus</td>\n",
       "      <td>0.110255</td>\n",
       "    </tr>\n",
       "    <tr>\n",
       "      <th>0</th>\n",
       "      <td>BiFcCoverageInd</td>\n",
       "      <td>0.027603</td>\n",
       "    </tr>\n",
       "    <tr>\n",
       "      <th>1</th>\n",
       "      <td>CoverageTypeDescription</td>\n",
       "      <td>0.017916</td>\n",
       "    </tr>\n",
       "  </tbody>\n",
       "</table>\n",
       "</div>"
      ],
      "text/plain": [
       "                     Feature  Importance\n",
       "5                ACX_ZIPCODE    0.369478\n",
       "3            NamedInsuredAge    0.293948\n",
       "4   NamedInsuredDriverPoints    0.180801\n",
       "2  NamedInsuredMaritalStatus    0.110255\n",
       "0            BiFcCoverageInd    0.027603\n",
       "1    CoverageTypeDescription    0.017916"
      ]
     },
     "execution_count": 926,
     "metadata": {},
     "output_type": "execute_result"
    }
   ],
   "source": [
    "# use feature model to find the most important features\n",
    "fi = pd.DataFrame(rf.feature_importances_)\n",
    "columns = pd.DataFrame(list(X.columns))\n",
    "features = pd.concat([columns, fi], axis = 1)\n",
    "features.columns = ['Feature', 'Importance']\n",
    "features.sort_values(\"Importance\", ascending = False)"
   ]
  },
  {
   "cell_type": "markdown",
   "id": "d9fa61b6",
   "metadata": {},
   "source": [
    "Most important features: \\\n",
    "Based on the results, the ACX_ZIPCODE,NamedInsuredAge and NamedInsuredDriverPoints features are the most important features. The importance of ACX_ZIPCODE feature is 0.369308 and the importance of NamedInsuredAge feature is 0.287152 and the importance of NamedInsuredDriverPoints is 0.187941. "
   ]
  },
  {
   "cell_type": "markdown",
   "id": "b7990157",
   "metadata": {},
   "source": [
    "Section Summary: \\ \n",
    "In this section, I used lable encoder, fill values with 0 and dummy variables. I create linear regression to find the relationship with ACX_ZIPCODE and MQuotedTotalPayment. I create another linear regression to find the relationship with ACX_ZIPCODE and MQuotedTotalPayment. I also found the most important features for the MQuotedTotalPayment which are ACX_ZIPCODE,NamedInsuredAge and NamedInsuredDriverPoints. "
   ]
  },
  {
   "cell_type": "markdown",
   "id": "222f77c2",
   "metadata": {},
   "source": [
    "## 4. Modeling for Policy Risk"
   ]
  },
  {
   "cell_type": "markdown",
   "id": "c86c3528",
   "metadata": {},
   "source": [
    "Description: This section is to choose FirstDaytoClaim a target variable as an indication of risk and make models to predict. "
   ]
  },
  {
   "cell_type": "markdown",
   "id": "8a36ce93",
   "metadata": {},
   "source": [
    "## 4.1  Data Preprocessing for Model"
   ]
  },
  {
   "cell_type": "code",
   "execution_count": 927,
   "id": "599519be",
   "metadata": {},
   "outputs": [],
   "source": [
    "df_TheGeneral = pd.read_csv('data/Phase2_TheGeneral.csv', index_col = None, header=0) "
   ]
  },
  {
   "cell_type": "code",
   "execution_count": 928,
   "id": "65e13f5f",
   "metadata": {},
   "outputs": [],
   "source": [
    "df_TheGeneral =pd.merge(df_TheGeneral ,df_Abilitech,how='inner',on='AbilitecContactID')"
   ]
  },
  {
   "cell_type": "code",
   "execution_count": 929,
   "id": "1a60e1dd",
   "metadata": {},
   "outputs": [],
   "source": [
    "# Fill null values with 0 for claimcount \n",
    "df_TheGeneral['ClaimCount']= df_TheGeneral['ClaimCount'].fillna(0)"
   ]
  },
  {
   "cell_type": "code",
   "execution_count": 930,
   "id": "aef6881e",
   "metadata": {},
   "outputs": [],
   "source": [
    "df_TheGeneral=df_TheGeneral[['AbilitecContactID','ClaimCount','DriverCount','TotalPaid','DateOfLoss','TermEffectiveDate','FirstDaysToClaim','SumClaimTransPaidLoss','ClaimTransCount']]"
   ]
  },
  {
   "cell_type": "code",
   "execution_count": 931,
   "id": "6d95bdc0",
   "metadata": {},
   "outputs": [
    {
     "data": {
      "text/html": [
       "<div>\n",
       "<style scoped>\n",
       "    .dataframe tbody tr th:only-of-type {\n",
       "        vertical-align: middle;\n",
       "    }\n",
       "\n",
       "    .dataframe tbody tr th {\n",
       "        vertical-align: top;\n",
       "    }\n",
       "\n",
       "    .dataframe thead th {\n",
       "        text-align: right;\n",
       "    }\n",
       "</style>\n",
       "<table border=\"1\" class=\"dataframe\">\n",
       "  <thead>\n",
       "    <tr style=\"text-align: right;\">\n",
       "      <th></th>\n",
       "      <th>AbilitecContactID</th>\n",
       "      <th>ClaimCount</th>\n",
       "      <th>DriverCount</th>\n",
       "      <th>TotalPaid</th>\n",
       "      <th>DateOfLoss</th>\n",
       "      <th>TermEffectiveDate</th>\n",
       "      <th>FirstDaysToClaim</th>\n",
       "      <th>SumClaimTransPaidLoss</th>\n",
       "      <th>ClaimTransCount</th>\n",
       "    </tr>\n",
       "  </thead>\n",
       "  <tbody>\n",
       "    <tr>\n",
       "      <th>10</th>\n",
       "      <td>04ZJUS018SRG545S</td>\n",
       "      <td>1.0</td>\n",
       "      <td>3</td>\n",
       "      <td>19066.60</td>\n",
       "      <td>2016-09-07 00:00:00</td>\n",
       "      <td>2016-05-18 00:00:00</td>\n",
       "      <td>112.0</td>\n",
       "      <td>19066.60</td>\n",
       "      <td>24.0</td>\n",
       "    </tr>\n",
       "    <tr>\n",
       "      <th>11</th>\n",
       "      <td>04ZJUS02EXPR09CB</td>\n",
       "      <td>1.0</td>\n",
       "      <td>4</td>\n",
       "      <td>5086.61</td>\n",
       "      <td>2018-08-06 00:00:00</td>\n",
       "      <td>2018-05-29 00:00:00</td>\n",
       "      <td>69.0</td>\n",
       "      <td>5086.61</td>\n",
       "      <td>9.0</td>\n",
       "    </tr>\n",
       "    <tr>\n",
       "      <th>19</th>\n",
       "      <td>04ZJUS0215TFZNST</td>\n",
       "      <td>1.0</td>\n",
       "      <td>2</td>\n",
       "      <td>1784.85</td>\n",
       "      <td>2019-02-22 00:00:00</td>\n",
       "      <td>2018-11-30 00:00:00</td>\n",
       "      <td>84.0</td>\n",
       "      <td>1784.85</td>\n",
       "      <td>7.0</td>\n",
       "    </tr>\n",
       "    <tr>\n",
       "      <th>21</th>\n",
       "      <td>04ZJUS02K2KC7DMW</td>\n",
       "      <td>1.0</td>\n",
       "      <td>2</td>\n",
       "      <td>21397.74</td>\n",
       "      <td>2018-06-17 00:00:00</td>\n",
       "      <td>2018-05-25 00:00:00</td>\n",
       "      <td>23.0</td>\n",
       "      <td>21397.74</td>\n",
       "      <td>53.0</td>\n",
       "    </tr>\n",
       "    <tr>\n",
       "      <th>30</th>\n",
       "      <td>04ZJUS027LKY4PHD</td>\n",
       "      <td>3.0</td>\n",
       "      <td>3</td>\n",
       "      <td>10557.49</td>\n",
       "      <td>2018-12-21 00:00:00</td>\n",
       "      <td>2018-12-17 00:00:00</td>\n",
       "      <td>4.0</td>\n",
       "      <td>10557.49</td>\n",
       "      <td>32.0</td>\n",
       "    </tr>\n",
       "    <tr>\n",
       "      <th>...</th>\n",
       "      <td>...</td>\n",
       "      <td>...</td>\n",
       "      <td>...</td>\n",
       "      <td>...</td>\n",
       "      <td>...</td>\n",
       "      <td>...</td>\n",
       "      <td>...</td>\n",
       "      <td>...</td>\n",
       "      <td>...</td>\n",
       "    </tr>\n",
       "    <tr>\n",
       "      <th>36339</th>\n",
       "      <td>04ZJUS01M9W487ZJ</td>\n",
       "      <td>1.0</td>\n",
       "      <td>1</td>\n",
       "      <td>2335.72</td>\n",
       "      <td>2018-04-11 00:00:00</td>\n",
       "      <td>2018-03-11 00:00:00</td>\n",
       "      <td>31.0</td>\n",
       "      <td>2335.72</td>\n",
       "      <td>8.0</td>\n",
       "    </tr>\n",
       "    <tr>\n",
       "      <th>36345</th>\n",
       "      <td>04ZJUS01KQEHD9YN</td>\n",
       "      <td>1.0</td>\n",
       "      <td>1</td>\n",
       "      <td>18069.58</td>\n",
       "      <td>2019-01-18 00:00:00</td>\n",
       "      <td>2018-09-29 00:00:00</td>\n",
       "      <td>111.0</td>\n",
       "      <td>18069.58</td>\n",
       "      <td>26.0</td>\n",
       "    </tr>\n",
       "    <tr>\n",
       "      <th>36347</th>\n",
       "      <td>04ZJUS024Y493BMM</td>\n",
       "      <td>2.0</td>\n",
       "      <td>2</td>\n",
       "      <td>6067.51</td>\n",
       "      <td>2018-08-07 00:00:00</td>\n",
       "      <td>2018-03-30 00:00:00</td>\n",
       "      <td>130.0</td>\n",
       "      <td>6067.51</td>\n",
       "      <td>14.0</td>\n",
       "    </tr>\n",
       "    <tr>\n",
       "      <th>36358</th>\n",
       "      <td>04ZJUS020YQDGQSJ</td>\n",
       "      <td>1.0</td>\n",
       "      <td>1</td>\n",
       "      <td>0.00</td>\n",
       "      <td>2018-07-03 00:00:00</td>\n",
       "      <td>2018-05-01 00:00:00</td>\n",
       "      <td>63.0</td>\n",
       "      <td>0.00</td>\n",
       "      <td>0.0</td>\n",
       "    </tr>\n",
       "    <tr>\n",
       "      <th>36359</th>\n",
       "      <td>04ZJUS022QSF2Q0W</td>\n",
       "      <td>1.0</td>\n",
       "      <td>1</td>\n",
       "      <td>0.00</td>\n",
       "      <td>2018-09-07 00:00:00</td>\n",
       "      <td>2018-05-04 00:00:00</td>\n",
       "      <td>126.0</td>\n",
       "      <td>0.00</td>\n",
       "      <td>8.0</td>\n",
       "    </tr>\n",
       "  </tbody>\n",
       "</table>\n",
       "<p>7599 rows × 9 columns</p>\n",
       "</div>"
      ],
      "text/plain": [
       "      AbilitecContactID  ClaimCount  DriverCount  TotalPaid  \\\n",
       "10     04ZJUS018SRG545S         1.0            3   19066.60   \n",
       "11     04ZJUS02EXPR09CB         1.0            4    5086.61   \n",
       "19     04ZJUS0215TFZNST         1.0            2    1784.85   \n",
       "21     04ZJUS02K2KC7DMW         1.0            2   21397.74   \n",
       "30     04ZJUS027LKY4PHD         3.0            3   10557.49   \n",
       "...                 ...         ...          ...        ...   \n",
       "36339  04ZJUS01M9W487ZJ         1.0            1    2335.72   \n",
       "36345  04ZJUS01KQEHD9YN         1.0            1   18069.58   \n",
       "36347  04ZJUS024Y493BMM         2.0            2    6067.51   \n",
       "36358  04ZJUS020YQDGQSJ         1.0            1       0.00   \n",
       "36359  04ZJUS022QSF2Q0W         1.0            1       0.00   \n",
       "\n",
       "                DateOfLoss    TermEffectiveDate  FirstDaysToClaim  \\\n",
       "10     2016-09-07 00:00:00  2016-05-18 00:00:00             112.0   \n",
       "11     2018-08-06 00:00:00  2018-05-29 00:00:00              69.0   \n",
       "19     2019-02-22 00:00:00  2018-11-30 00:00:00              84.0   \n",
       "21     2018-06-17 00:00:00  2018-05-25 00:00:00              23.0   \n",
       "30     2018-12-21 00:00:00  2018-12-17 00:00:00               4.0   \n",
       "...                    ...                  ...               ...   \n",
       "36339  2018-04-11 00:00:00  2018-03-11 00:00:00              31.0   \n",
       "36345  2019-01-18 00:00:00  2018-09-29 00:00:00             111.0   \n",
       "36347  2018-08-07 00:00:00  2018-03-30 00:00:00             130.0   \n",
       "36358  2018-07-03 00:00:00  2018-05-01 00:00:00              63.0   \n",
       "36359  2018-09-07 00:00:00  2018-05-04 00:00:00             126.0   \n",
       "\n",
       "       SumClaimTransPaidLoss  ClaimTransCount  \n",
       "10                  19066.60             24.0  \n",
       "11                   5086.61              9.0  \n",
       "19                   1784.85              7.0  \n",
       "21                  21397.74             53.0  \n",
       "30                  10557.49             32.0  \n",
       "...                      ...              ...  \n",
       "36339                2335.72              8.0  \n",
       "36345               18069.58             26.0  \n",
       "36347                6067.51             14.0  \n",
       "36358                   0.00              0.0  \n",
       "36359                   0.00              8.0  \n",
       "\n",
       "[7599 rows x 9 columns]"
      ]
     },
     "execution_count": 931,
     "metadata": {},
     "output_type": "execute_result"
    }
   ],
   "source": [
    "df_TheGeneral=df_TheGeneral.dropna(how='any')\n",
    "df_TheGeneral"
   ]
  },
  {
   "cell_type": "code",
   "execution_count": 932,
   "id": "09225352",
   "metadata": {},
   "outputs": [
    {
     "name": "stdout",
     "output_type": "stream",
     "text": [
      "<class 'pandas.core.frame.DataFrame'>\n",
      "Int64Index: 7599 entries, 10 to 36359\n",
      "Data columns (total 9 columns):\n",
      " #   Column                 Non-Null Count  Dtype  \n",
      "---  ------                 --------------  -----  \n",
      " 0   AbilitecContactID      7599 non-null   object \n",
      " 1   ClaimCount             7599 non-null   float64\n",
      " 2   DriverCount            7599 non-null   int64  \n",
      " 3   TotalPaid              7599 non-null   float64\n",
      " 4   DateOfLoss             7599 non-null   object \n",
      " 5   TermEffectiveDate      7599 non-null   object \n",
      " 6   FirstDaysToClaim       7599 non-null   float64\n",
      " 7   SumClaimTransPaidLoss  7599 non-null   float64\n",
      " 8   ClaimTransCount        7599 non-null   float64\n",
      "dtypes: float64(5), int64(1), object(3)\n",
      "memory usage: 593.7+ KB\n"
     ]
    }
   ],
   "source": [
    "df_TheGeneral.info()"
   ]
  },
  {
   "cell_type": "code",
   "execution_count": 933,
   "id": "ec430fa8",
   "metadata": {},
   "outputs": [],
   "source": [
    "# Create dummy data and concat the dataframe\n",
    "df_TheGeneral_DateOfLoss_dummy = pd.get_dummies(df_TheGeneral['DateOfLoss'])\n",
    "df_TheGeneral_TermEffectiveDate_dummy = pd.get_dummies(df_TheGeneral['TermEffectiveDate'])\n",
    "df_TheGeneral=pd.concat([df_TheGeneral,df_TheGeneral_DateOfLoss_dummy],axis=1)\n",
    "df_TheGeneral=pd.concat([df_TheGeneral,df_TheGeneral_TermEffectiveDate_dummy],axis=1)\n",
    "df_TheGeneral=df_TheGeneral[['ClaimCount','DriverCount','TotalPaid','FirstDaysToClaim','SumClaimTransPaidLoss','ClaimTransCount']]"
   ]
  },
  {
   "cell_type": "code",
   "execution_count": 934,
   "id": "5f3dc8f4",
   "metadata": {},
   "outputs": [],
   "source": [
    "#import function for label encoder\n",
    "from sklearn.preprocessing import LabelEncoder \n",
    "# label encoder to a simple abbreviation\n",
    "lb = LabelEncoder() "
   ]
  },
  {
   "cell_type": "code",
   "execution_count": 935,
   "id": "56747f40",
   "metadata": {},
   "outputs": [],
   "source": [
    "df_TheGeneral['SumClaimTransPaidLoss'] = lb.fit_transform(df_TheGeneral['SumClaimTransPaidLoss']) \n",
    "df_TheGeneral['ClaimTransCount'] = lb.fit_transform(df_TheGeneral['ClaimTransCount']) "
   ]
  },
  {
   "cell_type": "code",
   "execution_count": 936,
   "id": "e9f0e185",
   "metadata": {},
   "outputs": [],
   "source": [
    "def firstdayclaim_count(c):\n",
    "  if c['FirstDaysToClaim'] >= 30:\n",
    "    return '1'\n",
    "  else:\n",
    "    return '0'\n",
    "\n",
    "df_TheGeneral['FirstDaysToClaim'] = df_TheGeneral.apply(firstdayclaim_count, axis=1)"
   ]
  },
  {
   "cell_type": "code",
   "execution_count": 937,
   "id": "ac60b662",
   "metadata": {},
   "outputs": [],
   "source": [
    "X=df_TheGeneral.drop(['FirstDaysToClaim'],axis=1)"
   ]
  },
  {
   "cell_type": "code",
   "execution_count": 938,
   "id": "a891ee78",
   "metadata": {},
   "outputs": [],
   "source": [
    "y=df_TheGeneral['FirstDaysToClaim']"
   ]
  },
  {
   "cell_type": "markdown",
   "id": "2a979c9f",
   "metadata": {},
   "source": [
    "## 4.2  Logistic regression for df_Gerneral"
   ]
  },
  {
   "cell_type": "code",
   "execution_count": 939,
   "id": "a16afb98",
   "metadata": {},
   "outputs": [],
   "source": [
    "from sklearn.model_selection import train_test_split"
   ]
  },
  {
   "cell_type": "code",
   "execution_count": 940,
   "id": "fc9eb777",
   "metadata": {},
   "outputs": [],
   "source": [
    "# Split the data for test/train\n",
    "X_train, X_test, y_train, y_test = train_test_split(X, y, test_size = 0.3, random_state = 42)"
   ]
  },
  {
   "cell_type": "code",
   "execution_count": 941,
   "id": "3951da6e",
   "metadata": {},
   "outputs": [],
   "source": [
    "#Import standardscaler\n",
    "from sklearn.preprocessing import StandardScaler\n",
    "scaler=StandardScaler()\n",
    "# Create scaled sets of the X dataframe\n",
    "X_scaled = scaler.fit_transform(X)"
   ]
  },
  {
   "cell_type": "code",
   "execution_count": 942,
   "id": "5ecf909b",
   "metadata": {},
   "outputs": [],
   "source": [
    "# Split the data for test/train for the scaled dataframe\n",
    "X_trainSC, X_testSC, y_trainSC, y_testSC = train_test_split(X_scaled, y, test_size = 0.3, random_state = 42)"
   ]
  },
  {
   "cell_type": "code",
   "execution_count": 943,
   "id": "ffe47220",
   "metadata": {},
   "outputs": [],
   "source": [
    "from sklearn.linear_model import LogisticRegression \n",
    "from sklearn.metrics import confusion_matrix, classification_report"
   ]
  },
  {
   "cell_type": "code",
   "execution_count": 944,
   "id": "2e76a315",
   "metadata": {},
   "outputs": [
    {
     "name": "stdout",
     "output_type": "stream",
     "text": [
      "0.8587719298245614\n"
     ]
    }
   ],
   "source": [
    "logr = LogisticRegression() \n",
    "logr.fit(X_trainSC, y_trainSC) \n",
    "score = logr.score(X_testSC, y_testSC) \n",
    "print(score) "
   ]
  },
  {
   "cell_type": "code",
   "execution_count": 945,
   "id": "23d0ff99",
   "metadata": {},
   "outputs": [],
   "source": [
    "scaled_pred = logr.predict(X_testSC)"
   ]
  },
  {
   "cell_type": "code",
   "execution_count": 946,
   "id": "9ad87709",
   "metadata": {
    "scrolled": true
   },
   "outputs": [
    {
     "name": "stdout",
     "output_type": "stream",
     "text": [
      "[[   0  322]\n",
      " [   0 1958]]\n",
      "\n",
      "              precision    recall  f1-score   support\n",
      "\n",
      "           0       0.00      0.00      0.00       322\n",
      "           1       0.86      1.00      0.92      1958\n",
      "\n",
      "    accuracy                           0.86      2280\n",
      "   macro avg       0.43      0.50      0.46      2280\n",
      "weighted avg       0.74      0.86      0.79      2280\n",
      "\n"
     ]
    },
    {
     "name": "stderr",
     "output_type": "stream",
     "text": [
      "C:\\Users\\HD\\anaconda3\\Lib\\site-packages\\sklearn\\metrics\\_classification.py:1469: UndefinedMetricWarning: Precision and F-score are ill-defined and being set to 0.0 in labels with no predicted samples. Use `zero_division` parameter to control this behavior.\n",
      "  _warn_prf(average, modifier, msg_start, len(result))\n",
      "C:\\Users\\HD\\anaconda3\\Lib\\site-packages\\sklearn\\metrics\\_classification.py:1469: UndefinedMetricWarning: Precision and F-score are ill-defined and being set to 0.0 in labels with no predicted samples. Use `zero_division` parameter to control this behavior.\n",
      "  _warn_prf(average, modifier, msg_start, len(result))\n",
      "C:\\Users\\HD\\anaconda3\\Lib\\site-packages\\sklearn\\metrics\\_classification.py:1469: UndefinedMetricWarning: Precision and F-score are ill-defined and being set to 0.0 in labels with no predicted samples. Use `zero_division` parameter to control this behavior.\n",
      "  _warn_prf(average, modifier, msg_start, len(result))\n"
     ]
    }
   ],
   "source": [
    "# Print confusion matrix and classification report  for the standard scaler datasets\n",
    "print(confusion_matrix(y_testSC, scaled_pred)) \n",
    "print(\"\") \n",
    "print(classification_report(y_testSC, scaled_pred)) "
   ]
  },
  {
   "cell_type": "markdown",
   "id": "fe508bf9",
   "metadata": {},
   "source": [
    "Analysis the Logistic Regression result: \\\n",
    "I chose the \"First day to claim\" as target attribute. I created two Logistic Regression models, one model used the raw dataset (X_train) and the other used the standard scaler dataset (X_trainSC)\n",
    "The accuracy score of the logistic regression model is 0.858. This means that the model correctly predicted the class labels for around 85.8% of the samples in the test dataset. I predict around 1958 quotes whose the first days which are larger 30 days becasue the recall is 0.94. I predicted 322 quotes wrong. For class 1, the F1-score is approximately 1, indicating a good balance between precision and recall. For class 0, the F1-score is approximately 0, suggesting a trade-off between precision and recall. \\\n",
    "In summary, the logistic regression model achieved an accuracy of around 85.8% on the test dataset. The probability of first day is longer than 30 days is high.  It performs well in correctly classifying the negative class (class 0) with high precision and recall, but it is less effective in capturing true positives for the positive class (class 1). The F1-scores provide a balance between precision and recall for each class."
   ]
  },
  {
   "cell_type": "markdown",
   "id": "22cc0565",
   "metadata": {},
   "source": [
    "## 4.3  Decision Tree Model for df_Gerneral"
   ]
  },
  {
   "cell_type": "code",
   "execution_count": 947,
   "id": "03276d02",
   "metadata": {},
   "outputs": [],
   "source": [
    "from sklearn.feature_extraction.text import CountVectorizer \n",
    "from sklearn.tree import DecisionTreeClassifier "
   ]
  },
  {
   "cell_type": "code",
   "execution_count": 948,
   "id": "c444f799",
   "metadata": {},
   "outputs": [],
   "source": [
    "# Create a Decision Tree Classifier\n",
    "classifier=DecisionTreeClassifier() \n",
    "classifier=classifier.fit(X_train,y_train) "
   ]
  },
  {
   "cell_type": "code",
   "execution_count": 949,
   "id": "4754d8e2",
   "metadata": {},
   "outputs": [
    {
     "name": "stdout",
     "output_type": "stream",
     "text": [
      "iteration 1 done\n",
      "iteration 2 done\n",
      "iteration 3 done\n",
      "iteration 4 done\n",
      "iteration 5 done\n",
      "iteration 6 done\n",
      "iteration 7 done\n",
      "iteration 8 done\n",
      "iteration 9 done\n",
      "iteration 10 done\n",
      "iteration 11 done\n"
     ]
    },
    {
     "data": {
      "image/png": "[encoded data removed]",
      "text/plain": [
       "<Figure size 640x480 with 1 Axes>"
      ]
     },
     "metadata": {},
     "output_type": "display_data"
    }
   ],
   "source": [
    "# Run a function to identify the best number of depths for your classifier\n",
    "depth = range(1,12)\n",
    "scores = []\n",
    "\n",
    "for d in depth:\n",
    "    classifier=DecisionTreeClassifier(max_depth = d)\n",
    "    classifier=classifier.fit(X_train,y_train)\n",
    "    scores.append(classifier.score(X_test, y_test))\n",
    "    print(\"iteration {} done\".format(d))\n",
    "\n",
    "\n",
    "plt.plot(depth, scores, '-o')\n",
    "plt.xlabel('depth, d')\n",
    "plt.ylabel('scores')\n",
    "plt.xticks(depth)\n",
    "plt.show()"
   ]
  },
  {
   "cell_type": "code",
   "execution_count": 950,
   "id": "7cd3d1f2",
   "metadata": {},
   "outputs": [],
   "source": [
    "# Create a Second Decision Tree Classifier\n",
    "classifier=DecisionTreeClassifier(max_depth =3) "
   ]
  },
  {
   "cell_type": "code",
   "execution_count": 951,
   "id": "74322002",
   "metadata": {},
   "outputs": [],
   "source": [
    "classifier=classifier.fit(X_train,y_train) "
   ]
  },
  {
   "cell_type": "code",
   "execution_count": 952,
   "id": "00ed8cba",
   "metadata": {},
   "outputs": [
    {
     "data": {
      "text/html": [
       "<div>\n",
       "<style scoped>\n",
       "    .dataframe tbody tr th:only-of-type {\n",
       "        vertical-align: middle;\n",
       "    }\n",
       "\n",
       "    .dataframe tbody tr th {\n",
       "        vertical-align: top;\n",
       "    }\n",
       "\n",
       "    .dataframe thead th {\n",
       "        text-align: right;\n",
       "    }\n",
       "</style>\n",
       "<table border=\"1\" class=\"dataframe\">\n",
       "  <thead>\n",
       "    <tr style=\"text-align: right;\">\n",
       "      <th></th>\n",
       "      <th>Predict_Tree</th>\n",
       "    </tr>\n",
       "  </thead>\n",
       "  <tbody>\n",
       "    <tr>\n",
       "      <th>0</th>\n",
       "      <td>1</td>\n",
       "    </tr>\n",
       "    <tr>\n",
       "      <th>1</th>\n",
       "      <td>1</td>\n",
       "    </tr>\n",
       "    <tr>\n",
       "      <th>2</th>\n",
       "      <td>1</td>\n",
       "    </tr>\n",
       "    <tr>\n",
       "      <th>3</th>\n",
       "      <td>1</td>\n",
       "    </tr>\n",
       "    <tr>\n",
       "      <th>4</th>\n",
       "      <td>1</td>\n",
       "    </tr>\n",
       "  </tbody>\n",
       "</table>\n",
       "</div>"
      ],
      "text/plain": [
       "  Predict_Tree\n",
       "0            1\n",
       "1            1\n",
       "2            1\n",
       "3            1\n",
       "4            1"
      ]
     },
     "execution_count": 952,
     "metadata": {},
     "output_type": "execute_result"
    }
   ],
   "source": [
    "#create a dataframe and rename it\n",
    "dt_preds = classifier.predict(X_test)\n",
    "dt_preds = pd.DataFrame(dt_preds)\n",
    "dt_preds = dt_preds.rename(columns={0:'Predict_Tree'})\n",
    "dt_preds.head()"
   ]
  },
  {
   "cell_type": "code",
   "execution_count": 953,
   "id": "ef6abfe1",
   "metadata": {},
   "outputs": [
    {
     "data": {
      "text/plain": [
       "0.8592105263157894"
      ]
     },
     "execution_count": 953,
     "metadata": {},
     "output_type": "execute_result"
    }
   ],
   "source": [
    "classifier.score(X_test, y_test)"
   ]
  },
  {
   "cell_type": "code",
   "execution_count": 954,
   "id": "aadf3e6e",
   "metadata": {},
   "outputs": [
    {
     "name": "stdout",
     "output_type": "stream",
     "text": [
      "[[   2  320]\n",
      " [   1 1957]]\n",
      "              precision    recall  f1-score   support\n",
      "\n",
      "           0       0.67      0.01      0.01       322\n",
      "           1       0.86      1.00      0.92      1958\n",
      "\n",
      "    accuracy                           0.86      2280\n",
      "   macro avg       0.76      0.50      0.47      2280\n",
      "weighted avg       0.83      0.86      0.80      2280\n",
      "\n"
     ]
    }
   ],
   "source": [
    "# Print the confusion matrix and the classification report\n",
    "print(confusion_matrix(y_test, dt_preds)) \n",
    "print(classification_report(y_test, dt_preds)) "
   ]
  },
  {
   "cell_type": "markdown",
   "id": "2649ee05",
   "metadata": {},
   "source": [
    "Analysis of the Decision Tree results: \\\n",
    "I created Decision Tree models used max_depth = 9. The accuracy score of the decision tree model is 0.859. This means that the model correctly predicted the class labels for around 85.90% of the samples in the test dataset. I predict aroud 1959 quotes are whose first day to claim is larger thatn 30 and precision is 0.86. I predicted around 321 quotes wrong. For class 1, the F1-score is approximately 0.92, indicating a good balance between precision and recall. For class 0, the F1-score is approximately  0.01, suggesting a trade-off between precision and recall. \n",
    "In summary, the decision tree model achieved an accuracy of around 85.90% on the test dataset. The probability of station whose bikes are out is high.  It performs not well classifying the negative class (class 0) with high precision and recall, but it is effective in capturing true positives for the positive class (class 1)."
   ]
  },
  {
   "cell_type": "markdown",
   "id": "30748881",
   "metadata": {},
   "source": [
    "## 4.4  Random Forest Model for df_Gerneral"
   ]
  },
  {
   "cell_type": "code",
   "execution_count": 955,
   "id": "b4b79ba6",
   "metadata": {},
   "outputs": [],
   "source": [
    " from sklearn.ensemble import RandomForestClassifier"
   ]
  },
  {
   "cell_type": "code",
   "execution_count": 956,
   "id": "4c73795b",
   "metadata": {},
   "outputs": [],
   "source": [
    "rf = RandomForestClassifier(n_estimators = 90, max_depth = 10) "
   ]
  },
  {
   "cell_type": "code",
   "execution_count": 957,
   "id": "4a0e51bd",
   "metadata": {},
   "outputs": [],
   "source": [
    "rf = rf.fit(X_train, y_train) "
   ]
  },
  {
   "cell_type": "code",
   "execution_count": 958,
   "id": "b018f877",
   "metadata": {},
   "outputs": [
    {
     "name": "stdout",
     "output_type": "stream",
     "text": [
      "0.8587719298245614\n"
     ]
    }
   ],
   "source": [
    "#Print Scores\n",
    "score = rf.score(X_test, y_test) \n",
    "print(score)"
   ]
  },
  {
   "cell_type": "code",
   "execution_count": 959,
   "id": "fa84b09c",
   "metadata": {},
   "outputs": [],
   "source": [
    "rf_pred = rf.predict(X_test) "
   ]
  },
  {
   "cell_type": "code",
   "execution_count": 960,
   "id": "ddc29cb9",
   "metadata": {},
   "outputs": [
    {
     "data": {
      "text/html": [
       "<div>\n",
       "<style scoped>\n",
       "    .dataframe tbody tr th:only-of-type {\n",
       "        vertical-align: middle;\n",
       "    }\n",
       "\n",
       "    .dataframe tbody tr th {\n",
       "        vertical-align: top;\n",
       "    }\n",
       "\n",
       "    .dataframe thead th {\n",
       "        text-align: right;\n",
       "    }\n",
       "</style>\n",
       "<table border=\"1\" class=\"dataframe\">\n",
       "  <thead>\n",
       "    <tr style=\"text-align: right;\">\n",
       "      <th></th>\n",
       "      <th>Predict_RF</th>\n",
       "    </tr>\n",
       "  </thead>\n",
       "  <tbody>\n",
       "    <tr>\n",
       "      <th>0</th>\n",
       "      <td>1</td>\n",
       "    </tr>\n",
       "    <tr>\n",
       "      <th>1</th>\n",
       "      <td>1</td>\n",
       "    </tr>\n",
       "    <tr>\n",
       "      <th>2</th>\n",
       "      <td>1</td>\n",
       "    </tr>\n",
       "    <tr>\n",
       "      <th>3</th>\n",
       "      <td>1</td>\n",
       "    </tr>\n",
       "    <tr>\n",
       "      <th>4</th>\n",
       "      <td>1</td>\n",
       "    </tr>\n",
       "  </tbody>\n",
       "</table>\n",
       "</div>"
      ],
      "text/plain": [
       "  Predict_RF\n",
       "0          1\n",
       "1          1\n",
       "2          1\n",
       "3          1\n",
       "4          1"
      ]
     },
     "execution_count": 960,
     "metadata": {},
     "output_type": "execute_result"
    }
   ],
   "source": [
    "rf_pred=pd.DataFrame(rf_pred)\n",
    "rf_pred = rf_pred.rename(columns={0:'Predict_RF'})\n",
    "rf_pred.head()"
   ]
  },
  {
   "cell_type": "code",
   "execution_count": 961,
   "id": "8bdde69b",
   "metadata": {},
   "outputs": [
    {
     "name": "stdout",
     "output_type": "stream",
     "text": [
      "              precision    recall  f1-score   support\n",
      "\n",
      "           0       0.00      0.00      0.00       322\n",
      "           1       0.86      1.00      0.92      1958\n",
      "\n",
      "    accuracy                           0.86      2280\n",
      "   macro avg       0.43      0.50      0.46      2280\n",
      "weighted avg       0.74      0.86      0.79      2280\n",
      "\n",
      "\n",
      "[[   0  322]\n",
      " [   0 1958]]\n"
     ]
    },
    {
     "name": "stderr",
     "output_type": "stream",
     "text": [
      "C:\\Users\\HD\\anaconda3\\Lib\\site-packages\\sklearn\\metrics\\_classification.py:1469: UndefinedMetricWarning: Precision and F-score are ill-defined and being set to 0.0 in labels with no predicted samples. Use `zero_division` parameter to control this behavior.\n",
      "  _warn_prf(average, modifier, msg_start, len(result))\n",
      "C:\\Users\\HD\\anaconda3\\Lib\\site-packages\\sklearn\\metrics\\_classification.py:1469: UndefinedMetricWarning: Precision and F-score are ill-defined and being set to 0.0 in labels with no predicted samples. Use `zero_division` parameter to control this behavior.\n",
      "  _warn_prf(average, modifier, msg_start, len(result))\n",
      "C:\\Users\\HD\\anaconda3\\Lib\\site-packages\\sklearn\\metrics\\_classification.py:1469: UndefinedMetricWarning: Precision and F-score are ill-defined and being set to 0.0 in labels with no predicted samples. Use `zero_division` parameter to control this behavior.\n",
      "  _warn_prf(average, modifier, msg_start, len(result))\n"
     ]
    }
   ],
   "source": [
    "print(classification_report(y_test, rf_pred)) \n",
    "print(\"\") \n",
    "print(confusion_matrix(y_test, rf_pred))"
   ]
  },
  {
   "cell_type": "code",
   "execution_count": 962,
   "id": "e9cb316d",
   "metadata": {},
   "outputs": [],
   "source": [
    "# Codes to find out which features are most important\n",
    "fi = pd.DataFrame(rf.feature_importances_)"
   ]
  },
  {
   "cell_type": "code",
   "execution_count": 963,
   "id": "dac329b8",
   "metadata": {},
   "outputs": [],
   "source": [
    "columns = pd.DataFrame(list(X.columns))"
   ]
  },
  {
   "cell_type": "code",
   "execution_count": 964,
   "id": "7f122daf",
   "metadata": {},
   "outputs": [],
   "source": [
    "features = pd.concat([columns, fi], axis = 1)"
   ]
  },
  {
   "cell_type": "code",
   "execution_count": 965,
   "id": "4b2c1671",
   "metadata": {},
   "outputs": [],
   "source": [
    "features.columns = ['Feature', 'Importance']"
   ]
  },
  {
   "cell_type": "code",
   "execution_count": 966,
   "id": "d680d0b6",
   "metadata": {},
   "outputs": [
    {
     "data": {
      "text/html": [
       "<div>\n",
       "<style scoped>\n",
       "    .dataframe tbody tr th:only-of-type {\n",
       "        vertical-align: middle;\n",
       "    }\n",
       "\n",
       "    .dataframe tbody tr th {\n",
       "        vertical-align: top;\n",
       "    }\n",
       "\n",
       "    .dataframe thead th {\n",
       "        text-align: right;\n",
       "    }\n",
       "</style>\n",
       "<table border=\"1\" class=\"dataframe\">\n",
       "  <thead>\n",
       "    <tr style=\"text-align: right;\">\n",
       "      <th></th>\n",
       "      <th>Feature</th>\n",
       "      <th>Importance</th>\n",
       "    </tr>\n",
       "  </thead>\n",
       "  <tbody>\n",
       "    <tr>\n",
       "      <th>3</th>\n",
       "      <td>SumClaimTransPaidLoss</td>\n",
       "      <td>0.295162</td>\n",
       "    </tr>\n",
       "    <tr>\n",
       "      <th>2</th>\n",
       "      <td>TotalPaid</td>\n",
       "      <td>0.284834</td>\n",
       "    </tr>\n",
       "    <tr>\n",
       "      <th>4</th>\n",
       "      <td>ClaimTransCount</td>\n",
       "      <td>0.217222</td>\n",
       "    </tr>\n",
       "    <tr>\n",
       "      <th>1</th>\n",
       "      <td>DriverCount</td>\n",
       "      <td>0.132720</td>\n",
       "    </tr>\n",
       "    <tr>\n",
       "      <th>0</th>\n",
       "      <td>ClaimCount</td>\n",
       "      <td>0.070062</td>\n",
       "    </tr>\n",
       "  </tbody>\n",
       "</table>\n",
       "</div>"
      ],
      "text/plain": [
       "                 Feature  Importance\n",
       "3  SumClaimTransPaidLoss    0.295162\n",
       "2              TotalPaid    0.284834\n",
       "4        ClaimTransCount    0.217222\n",
       "1            DriverCount    0.132720\n",
       "0             ClaimCount    0.070062"
      ]
     },
     "execution_count": 966,
     "metadata": {},
     "output_type": "execute_result"
    }
   ],
   "source": [
    "features.sort_values(\"Importance\", ascending = False)"
   ]
  },
  {
   "cell_type": "markdown",
   "id": "611ff3c1",
   "metadata": {},
   "source": [
    "Analysis of the reult: \\\n",
    "Based on the results, the TotalPaid feature, the SumClaimTransPaidLoss feature and the ClaimTransCount feature are the most important features. The importance of TotalPaid feature is 0.298611 and the importance of SumClaimTransPaidLoss\tfeature is 0.288845 and the importance of ClaimTransCount is 0.217008. "
   ]
  },
  {
   "cell_type": "markdown",
   "id": "e1fb4511",
   "metadata": {},
   "source": [
    "## 4.5  Best Model "
   ]
  },
  {
   "cell_type": "markdown",
   "id": "ffd52038",
   "metadata": {},
   "source": [
    "Comparing all three models, the decision tree model is the best. \\\n",
    "For the reason that the score for decision tree model whose score is 0.859 is slightly higher than Logistics Regression model and Random forest model. (0.8587 and 0.85877) the recall percentage for the first day to claim is less than 30  \"0\" in decision tree is 0.01 is higher than other two models (both are 0). However, the recall percentages for the first day to claim which is larger than 30 \"1\" in all three models are the same. Compared to Randon forest model, decision tree predict the first claim day is more than 30  more accurate (1959 vs 1958). However, the decision tree model did worse than Randon forest in predicting the first claim day which is less than 30 (321 vs 320). Therefore, decision tree model is the best in all three models. "
   ]
  },
  {
   "cell_type": "markdown",
   "id": "cb379818",
   "metadata": {},
   "source": [
    "Section Summary:    \n",
    "In this section, I created Logistic Regression, Decision Tree, and Random Forest models to look at first day to claim data for the relationships of the features and tried to predict if the . These three models are classifier models because it predicts whether the first day to claim is larger than 30 to indicate the risk. The first day to claim is larger than 30 (1) first day to claim is less than 30 (0). I looked at the results of these models including the scores, confusion matrixes, and classification reports and compared them. The best model I found is the Decision tree using  max_depth = 3 because it has the highest score of 0.859. "
   ]
  },
  {
   "cell_type": "markdown",
   "id": "cf109e98",
   "metadata": {},
   "source": [
    "## 5. Final Summary"
   ]
  },
  {
   "cell_type": "markdown",
   "id": "e8636738",
   "metadata": {},
   "source": [
    "Description: This section is to give final summary to the company. "
   ]
  },
  {
   "cell_type": "markdown",
   "id": "e0da1924",
   "metadata": {},
   "source": [
    "## 5.1 Models comparision"
   ]
  },
  {
   "cell_type": "markdown",
   "id": "53b0fa23",
   "metadata": {},
   "source": [
    "#### Comparision of Linear Regression models"
   ]
  },
  {
   "cell_type": "markdown",
   "id": "32f0e803",
   "metadata": {},
   "source": [
    "Compare to those two linear regression models for MquotedTotalPayment, the score of the simple linear regression within NamedInsuredAge is 0.00296 while the score of the simple linear regression within ACX_ZIPCODE is 0.00847. This means MquotedTotalPayment has a stronger relationship with ACX_ZIPCODE than NamedInsuredAge variable. Most of the consumers in ACX_ZIPCODE simple linear regression spend 5000 dollars per month but a large amount of customers in NamedInsuredAge simple linear regression spend 7500 dollars per month. Both of the ACX_ZIPCODE simple linear regression and NamedInsuredAge simple linear regression have a negative relationship with MquotedTotalPayment.  "
   ]
  },
  {
   "cell_type": "markdown",
   "id": "d1cc3cca",
   "metadata": {},
   "source": [
    "#### Comparision of Logistics Regression, Decision tree and Random forest models"
   ]
  },
  {
   "cell_type": "markdown",
   "id": "da06f154",
   "metadata": {},
   "source": [
    "Comparing all three models, the score for decision tree model is 0.859 which is slightly higher than Logistics Regression model and Random forest model. (0.8587 and 0.85877) the recall percentage for the first day to claim is less than 30  \"0\" in decision tree is 0.01 is higher than other two models (both are 0). However, the recall percentages for the first day to claim which is larger than 30 \"1\" in all three models are the same. Compared to Randon forest model, decision tree predict the first claim day is more than 30  more accurate (1959 vs 1958). However, the decision tree model did worse than Randon forest in predicting the first claim day which is less than 30 (321 vs 320). Therefore, the prediction of decision tree model is better than the prediction of logistic regression model and Random forest model. "
   ]
  },
  {
   "cell_type": "markdown",
   "id": "b5172954",
   "metadata": {},
   "source": [
    "## 5.2  Identify customer type, risk level and consistently high-risk customers."
   ]
  },
  {
   "cell_type": "markdown",
   "id": "2fa8fc42",
   "metadata": {},
   "source": [
    "Based on the K-Means clustering and scatterplot visualization, the customer types of general company are over 50 years old and have fraternal in the insurance company. The company should also focus on customers in Florida. The score of decision tree model is 0.859. The score of Logistics Regression model and Random forest is 0.8587 and 0.85877. That means the prosibility of first claim day is larger than 30 is high so the risk level is high. Based on the linear regression model, The consistently high-risk customers are whose ages between 20 years old to 50 years old."
   ]
  },
  {
   "cell_type": "markdown",
   "id": "05704497",
   "metadata": {},
   "source": [
    "## 5.3 A better way to predict the amount of a quote "
   ]
  },
  {
   "cell_type": "markdown",
   "id": "79db839f",
   "metadata": {},
   "source": [
    "The decision tree model is a better way to predict the amount of a quote. For the reason that the score for decision tree model whose score is 0.859 is slightly higher than Logistics Regression model and Random forest model. (0.8587 and 0.85877) the recall percentage for the first day to claim is less than 30  \"0\" in decision tree is 0.01 is higher than other two models (both are 0). Compared to Randon forest model, decision tree predict the first claim day is more than 30  more accurate (1959 vs 1958). Therefore, decision tree model is the best in all three models to predict the amount of a quote. "
   ]
  },
  {
   "cell_type": "markdown",
   "id": "a9b5d71f",
   "metadata": {},
   "source": [
    "## 5.4 Most important features from the data "
   ]
  },
  {
   "cell_type": "markdown",
   "id": "ef33c223",
   "metadata": {},
   "source": [
    "Based on the feature models, the ACX_ZIPCODE,NamedInsuredAge and NamedInsuredDriverPoints features are the most important features for the MQuotedTotalPayment variable. The importance of ACX_ZIPCODE feature is 0.369308 and the importance of NamedInsuredAge feature is 0.287152 and the importance of NamedInsuredDriverPoints is 0.187941. \\\n",
    "I also made another feature model to analyze the df_general data frame and I found out that TotalPaid feature, the SumClaimTransPaidLoss feature and the ClaimTransCount feature are the most important features. The importance of TotalPaid feature is 0.298611 and the importance of SumClaimTransPaidLoss\tfeature is 0.288845 and the importance of ClaimTransCount is 0.217008. "
   ]
  },
  {
   "cell_type": "markdown",
   "id": "cc560251",
   "metadata": {},
   "source": [
    "## 5.5 A better way to assess risk"
   ]
  },
  {
   "cell_type": "markdown",
   "id": "fef1f0f9",
   "metadata": {},
   "source": [
    "• A better way to assess risk is to use multiple features such as TotalPaid, SumClaimTransPaidLoss and ClaimTransCount features. \\\n",
    "• The company can use multiple models such as logistic regression, decision tree and random forest models to get the score of models for those variables and generate confusion matrix and classification report for the modesl.  \n",
    "• Then, create a scatter plot to visually examine the relationship between these variables. Plot \"SumClaimTransPaidLoss\" on the X-axis and \"ClaimTransCount\" on the Y-axis. Each point on the plot represents a data point"
   ]
  },
  {
   "cell_type": "markdown",
   "id": "f560790e",
   "metadata": {},
   "source": [
    "## 5.6 Whether to buy Abilitech data"
   ]
  },
  {
   "cell_type": "markdown",
   "id": "a7c0a48b",
   "metadata": {},
   "source": [
    "I think it's beneficial to buy Abilitech data because it helps the general company have a better understanding of the customers type. For example, most of the customers get medical insurance from fraternal or other membership.  Therefore, the company can determine its target customers and come up with marketing strategies to make more sales. "
   ]
  },
  {
   "cell_type": "markdown",
   "id": "0d921af9",
   "metadata": {},
   "source": [
    "## 5.7 Recommendation for the company"
   ]
  },
  {
   "cell_type": "markdown",
   "id": "0906d24e",
   "metadata": {},
   "source": [
    "• Build fraternal benefit societies to offer insurance combination meal for customers. For example, the policyholder can get 30% off if he buy both auto insurance and medical insurance from the general company.   \n",
    "• Focus on customers who are over 50 years old in Florida to make more sales   \n",
    "• Reduced the first day to a claim to less than 30 days and increasing the speed of reporting a claim which will miligate the risk level"
   ]
  },
  {
   "cell_type": "markdown",
   "id": "28a48002",
   "metadata": {},
   "source": [
    "Summary: In this section, I discussed the customer type, risk level and consistently high-risk customers, A better way to predict the amount of a quote\n",
    "and access risk. I also find out the Most important features (TotalPaid, SumClaimTransPaidLoss and ClaimTransCount features) from the data and give my recommendation to the company. "
   ]
  }
 ],
 "metadata": {
  "kernelspec": {
   "display_name": "Python 3 (ipykernel)",
   "language": "python",
   "name": "python3"
  },
  "language_info": {
   "codemirror_mode": {
    "name": "ipython",
    "version": 3
   },
   "file_extension": ".py",
   "mimetype": "text/x-python",
   "name": "python",
   "nbconvert_exporter": "python",
   "pygments_lexer": "ipython3",
   "version": "3.11.4"
  }
 },
 "nbformat": 4,
 "nbformat_minor": 5
}
